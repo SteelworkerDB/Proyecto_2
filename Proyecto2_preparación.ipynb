{
  "nbformat": 4,
  "nbformat_minor": 0,
  "metadata": {
    "colab": {
      "provenance": [],
      "authorship_tag": "ABX9TyM4dYCvZDeWBvG+37zgWKNi",
      "include_colab_link": true
    },
    "kernelspec": {
      "name": "python3",
      "display_name": "Python 3"
    },
    "language_info": {
      "name": "python"
    }
  },
  "cells": [
    {
      "cell_type": "markdown",
      "metadata": {
        "id": "view-in-github",
        "colab_type": "text"
      },
      "source": [
        "<a href=\"https://colab.research.google.com/github/SteelworkerDB/Proyecto_2/blob/main/Proyecto2_preparaci%C3%B3n.ipynb\" target=\"_parent\"><img src=\"https://colab.research.google.com/assets/colab-badge.svg\" alt=\"Open In Colab\"/></a>"
      ]
    },
    {
      "cell_type": "markdown",
      "source": [
        "# PROYECTO 2\n"
      ],
      "metadata": {
        "id": "Aiisu3ftInPa"
      }
    },
    {
      "cell_type": "markdown",
      "source": [
        "##PROPIEDADES EN ECUADOR"
      ],
      "metadata": {
        "id": "PhMCUxs4JIEG"
      }
    },
    {
      "cell_type": "markdown",
      "source": [
        "\n",
        "1) Fuente de datos\n",
        "\n",
        "    Sinthia Guaigua. (2022). DataSet Inmobiliario [Data set]. Zenodo. https://doi.org/10.5281/zenodo.6413272\n",
        "\n",
        "    Scraped de https://www.inmovision.com.ec/\n",
        "\n",
        "    Abril 5, 2022\n",
        "\n",
        "2) Breve descripción de datos\n",
        "\n",
        "   *Un listado de propiedades en el Ecuador con información detallada que posiblemente no se encuentra detallada en otras bases de datos.*\n",
        "\n",
        "3) ¿Cuál es el objetivo?\n",
        "\n",
        "  *Comprender el mercado inmobiliario del Ecuador, lograr predecir costo de una propiedad en base a sus características.*\n",
        "\n",
        "4) ¿Este es un problema de clasificación o regresión?\n",
        "\n",
        "*  Regresión.*\n",
        "\n",
        "5) ¿Cuántas características hay?\n",
        "\n",
        "*15 (16 contando la fecha de publicación de la información)*\n",
        "\n",
        "6) ¿Cuántas filas de datos hay?\n",
        "\n",
        " *206*\n",
        "\n",
        "7) ¿Qué retos, si es que hay alguno, prevén en la limpieza, exploración o modelización con este conjunto de datos?\n",
        "\n",
        "  *Demasiados valores perdidos/vacíos.  Características que se observan completas en más de la mitad de las filas son: TIPO DE PROPIEDAD, SECTOR, PRECIO, REFERENCIA, DORMITORIOS, BAÑOS, ANTIGUEDAD, SUPERFICIES, AMBIENTES.  Algunas solo tienen completas un poco más de la mitad del total de filas.*\n",
        "\n",
        "  *En general, 206 datos no es una gran cantidad de datos, especialmente con tantos valores perdidos.*\n",
        "\n",
        "\n",
        "---\n",
        "---\n"
      ],
      "metadata": {
        "id": "3RDdL1dSCuL0"
      }
    },
    {
      "cell_type": "markdown",
      "source": [
        "##REVISIÓN PRELIMINAR"
      ],
      "metadata": {
        "id": "Peiomp19zjIj"
      }
    },
    {
      "cell_type": "code",
      "execution_count": 167,
      "metadata": {
        "id": "exdY9gmyHw4_"
      },
      "outputs": [],
      "source": [
        "import numpy as np\n",
        "import pandas as pd\n",
        "\n",
        "import matplotlib.pyplot as plt\n",
        "import seaborn as sns\n",
        "from scipy import stats"
      ]
    },
    {
      "cell_type": "code",
      "source": [
        "filename='/content/datos.csv'\n",
        "df_housing=pd.read_csv(filename,encoding='latin_1')\n",
        "df_housing.head(30)"
      ],
      "metadata": {
        "id": "stGptNOyJG2x",
        "colab": {
          "base_uri": "https://localhost:8080/",
          "height": 1000
        },
        "outputId": "713e44c5-7f7d-4d98-ec6f-c9cf018a4020"
      },
      "execution_count": 168,
      "outputs": [
        {
          "output_type": "execute_result",
          "data": {
            "text/plain": [
              "   Tipo de Propiedad         Sector Total construido        Precio  \\\n",
              "0       Departamento           Same           160 m²    USD160.000   \n",
              "1               Casa      El Bosque           960 m²    USD800.000   \n",
              "2               Casa        Cumbayá           275 m²    USD360.000   \n",
              "3            Terreno          Checa              NaN    USD275.000   \n",
              "4               Casa        Cumbayá          1740 m²    USD850.000   \n",
              "5               Casa        Cumbayá           240 m²    USD319.000   \n",
              "6               Casa        Cumbayá           221 m²    USD298.000   \n",
              "7            Terreno         Puembo              NaN    USD138.000   \n",
              "8       Departamento        Cumbayá           174 m²    USD219.000   \n",
              "9            Terreno        Cumbayá              NaN    USD498.780   \n",
              "10           Terreno        Cumbayá              NaN    USD795.520   \n",
              "11           Terreno        Cumbayá              NaN    USD625.000   \n",
              "12             Hotel       Atacames          2526 m²  USD5.500.000   \n",
              "13      Departamento        Cumbayá           116 m²    USD210.000   \n",
              "14              Casa         Puembo           500 m²    USD725.000   \n",
              "15              Casa        Cumbayá           181 m²    USD285.000   \n",
              "16              Casa        Tumbaco           400 m²    USD370.000   \n",
              "17              Casa        Tumbaco           569 m²    USD850.000   \n",
              "18              Casa        Cumbayá           390 m²    USD580.000   \n",
              "19           Terreno         Puembo              NaN    USD203.000   \n",
              "20           Terreno        Tumbaco              NaN    USD240.000   \n",
              "21           Terreno        Tumbaco              NaN    USD236.600   \n",
              "22           Terreno        Tumbaco              NaN    USD260.000   \n",
              "23              Casa  Nayón - Tanda           711 m²    USD750.000   \n",
              "24      Departamento    La Carolina           185 m²    USD460.000   \n",
              "25      Departamento        Cumbayá           580 m²    USD440.000   \n",
              "26              Casa        Cumbayá           700 m²    USD890.000   \n",
              "27           Terreno        Tumbaco              NaN    USD260.000   \n",
              "28           Terreno        Tumbaco              NaN    USD139.000   \n",
              "29              Casa        Cumbayá           580 m²    USD620.000   \n",
              "\n",
              "                                  Referencia  Dormitorios  Baños  Antiguedad  \\\n",
              "0                      El Muelle, Esmeraldas          3.0    2.0          15   \n",
              "1           Sector Unión Nacional, El Bosque          5.0    5.0          38   \n",
              "2            Cumbayá, junto al Colegio Menor          3.0    3.0  A Estrenar   \n",
              "3                                      Checa          NaN    NaN         NaN   \n",
              "4                                      Tanda          4.0    3.0           8   \n",
              "5                    Urbanización Pachosalas          3.0    3.0  A Estrenar   \n",
              "6                    Urbanización Pachosalas          3.0    3.0  A Estrenar   \n",
              "7       Urbanización Plaza del Parque Puembo          NaN    NaN         NaN   \n",
              "8                   Cumbayá, Proyecto Sironi          3.0    2.0           5   \n",
              "9                 La Viña del Río Parte alta          NaN    NaN         NaN   \n",
              "10                 Urbanización Viña del Río          NaN    NaN         NaN   \n",
              "11           Urbanización La Quinta, Cumbayá          NaN    NaN         NaN   \n",
              "12                                  Atacames          NaN    NaN         NaN   \n",
              "13                 Urbanización La Primavera          3.0    2.0           2   \n",
              "14                 Puembo, Sector Las Palmas          4.0    4.0  A Estrenar   \n",
              "15                             San Juan Alto          3.0    2.0           2   \n",
              "16              San José de la Viña, Tumbaco          4.0    3.0           9   \n",
              "17                  Tumbaco, Sector Hilacril          3.0    3.0  A Estrenar   \n",
              "18             Cumbayá, frente a la ciclovía          3.0    3.0           8   \n",
              "19                                    Puembo          NaN    NaN         NaN   \n",
              "20  Collaquí, Tumbaco, Urbanización Yarakuna          NaN    NaN         NaN   \n",
              "21              Tumbaco, Urbanización Chaupi          NaN    NaN         NaN   \n",
              "22               Tumbaco, cerca al Chaquiñán          NaN    NaN         NaN   \n",
              "23               Nayón, Urbanización cerrada          4.0    4.0           9   \n",
              "24                                  Carolina          2.0    2.0           1   \n",
              "25          Urbanización Eucaliptos, Cumbayá          4.0    3.0          15   \n",
              "26                      Urbanización La Viña          4.0    4.0           6   \n",
              "27                                   Tumbaco          NaN    NaN         NaN   \n",
              "28                  Tumbaco, Sector Hilacril          NaN    NaN         NaN   \n",
              "29            Urbanización Cumbres del Valle          4.0    4.0           9   \n",
              "\n",
              "   Superficie  Ambientes 24 Hours Security Alcantarillado Parqueadero fijo  \\\n",
              "0         NaN        4.0               NaN            NaN              NaN   \n",
              "1     1443 m²        6.0               NaN            NaN              NaN   \n",
              "2       60 m²        4.0               NaN            NaN              NaN   \n",
              "3     5000 m²        NaN                No             No              NaN   \n",
              "4         NaN        NaN               NaN            NaN              NaN   \n",
              "5      123 m²        4.0               NaN            NaN              NaN   \n",
              "6      112 m²        4.0               NaN            NaN              NaN   \n",
              "7      596 m²        NaN                Si             Si              NaN   \n",
              "8      120 m²        4.0               NaN            NaN              NaN   \n",
              "9     1467 m²        NaN                Si             Si              NaN   \n",
              "10    2486 m²        NaN                Si             Si              NaN   \n",
              "11    1000 m²        NaN                Si             No              NaN   \n",
              "12    5650 m²        NaN               NaN            NaN              NaN   \n",
              "13        NaN        4.0               NaN            NaN              NaN   \n",
              "14    2437 m²        5.0               NaN            NaN              NaN   \n",
              "15      64 m²        4.0               NaN            NaN              NaN   \n",
              "16    1320 m²        6.0               NaN            NaN              NaN   \n",
              "17    1520 m²        5.0               NaN            NaN              NaN   \n",
              "18     642 m²        5.0               NaN            NaN              NaN   \n",
              "19    1000 m²        NaN                Si             Si              NaN   \n",
              "20    1017 m²        NaN                Si             Si              NaN   \n",
              "21     910 m²        NaN                Si             Si              NaN   \n",
              "22    1000 m²        NaN                Si             Si              NaN   \n",
              "23    1199 m²        9.0               NaN            NaN              NaN   \n",
              "24        NaN        4.0               NaN            NaN              NaN   \n",
              "25      80 m²        6.0               NaN            NaN              NaN   \n",
              "26    1042 m²        6.0               NaN            NaN              NaN   \n",
              "27     895 m²        NaN                Si             No              NaN   \n",
              "28     696 m²        NaN                No             Si              NaN   \n",
              "29     698 m²        6.0               NaN            NaN              NaN   \n",
              "\n",
              "   Seguridad 24Hs  Expensas Fecha de entrega       Fecha  \n",
              "0             NaN       NaN              NaN  03-04-2022  \n",
              "1             NaN       NaN              NaN  03-04-2022  \n",
              "2             NaN       NaN              NaN  03-04-2022  \n",
              "3             NaN       NaN              NaN  03-04-2022  \n",
              "4             NaN       NaN              NaN  03-04-2022  \n",
              "5             NaN       NaN              NaN  03-04-2022  \n",
              "6             NaN       NaN              NaN  03-04-2022  \n",
              "7             NaN       NaN              NaN  03-04-2022  \n",
              "8             NaN       NaN              NaN  03-04-2022  \n",
              "9             NaN       NaN              NaN  03-04-2022  \n",
              "10            NaN       NaN              NaN  03-04-2022  \n",
              "11            NaN       NaN              NaN  03-04-2022  \n",
              "12            NaN       NaN              NaN  03-04-2022  \n",
              "13            NaN       NaN              NaN  03-04-2022  \n",
              "14            NaN       NaN              NaN  03-04-2022  \n",
              "15            NaN       NaN              NaN  03-04-2022  \n",
              "16            NaN       NaN              NaN  03-04-2022  \n",
              "17            NaN       NaN              NaN  03-04-2022  \n",
              "18            NaN       NaN              NaN  03-04-2022  \n",
              "19            NaN       NaN              NaN  03-04-2022  \n",
              "20            NaN       NaN              NaN  03-04-2022  \n",
              "21            NaN       NaN              NaN  03-04-2022  \n",
              "22            NaN       NaN              NaN  03-04-2022  \n",
              "23            NaN       NaN              NaN  03-04-2022  \n",
              "24            NaN       NaN              NaN  03-04-2022  \n",
              "25            NaN       NaN              NaN  03-04-2022  \n",
              "26            NaN       NaN              NaN  03-04-2022  \n",
              "27            NaN       NaN              NaN  03-04-2022  \n",
              "28            NaN       NaN              NaN  03-04-2022  \n",
              "29            NaN       NaN              NaN  03-04-2022  "
            ],
            "text/html": [
              "\n",
              "  <div id=\"df-13bff96f-5124-4e94-ad01-727610c78156\" class=\"colab-df-container\">\n",
              "    <div>\n",
              "<style scoped>\n",
              "    .dataframe tbody tr th:only-of-type {\n",
              "        vertical-align: middle;\n",
              "    }\n",
              "\n",
              "    .dataframe tbody tr th {\n",
              "        vertical-align: top;\n",
              "    }\n",
              "\n",
              "    .dataframe thead th {\n",
              "        text-align: right;\n",
              "    }\n",
              "</style>\n",
              "<table border=\"1\" class=\"dataframe\">\n",
              "  <thead>\n",
              "    <tr style=\"text-align: right;\">\n",
              "      <th></th>\n",
              "      <th>Tipo de Propiedad</th>\n",
              "      <th>Sector</th>\n",
              "      <th>Total construido</th>\n",
              "      <th>Precio</th>\n",
              "      <th>Referencia</th>\n",
              "      <th>Dormitorios</th>\n",
              "      <th>Baños</th>\n",
              "      <th>Antiguedad</th>\n",
              "      <th>Superficie</th>\n",
              "      <th>Ambientes</th>\n",
              "      <th>24 Hours Security</th>\n",
              "      <th>Alcantarillado</th>\n",
              "      <th>Parqueadero fijo</th>\n",
              "      <th>Seguridad 24Hs</th>\n",
              "      <th>Expensas</th>\n",
              "      <th>Fecha de entrega</th>\n",
              "      <th>Fecha</th>\n",
              "    </tr>\n",
              "  </thead>\n",
              "  <tbody>\n",
              "    <tr>\n",
              "      <th>0</th>\n",
              "      <td>Departamento</td>\n",
              "      <td>Same</td>\n",
              "      <td>160 m²</td>\n",
              "      <td>USD160.000</td>\n",
              "      <td>El Muelle, Esmeraldas</td>\n",
              "      <td>3.0</td>\n",
              "      <td>2.0</td>\n",
              "      <td>15</td>\n",
              "      <td>NaN</td>\n",
              "      <td>4.0</td>\n",
              "      <td>NaN</td>\n",
              "      <td>NaN</td>\n",
              "      <td>NaN</td>\n",
              "      <td>NaN</td>\n",
              "      <td>NaN</td>\n",
              "      <td>NaN</td>\n",
              "      <td>03-04-2022</td>\n",
              "    </tr>\n",
              "    <tr>\n",
              "      <th>1</th>\n",
              "      <td>Casa</td>\n",
              "      <td>El Bosque</td>\n",
              "      <td>960 m²</td>\n",
              "      <td>USD800.000</td>\n",
              "      <td>Sector Unión Nacional, El Bosque</td>\n",
              "      <td>5.0</td>\n",
              "      <td>5.0</td>\n",
              "      <td>38</td>\n",
              "      <td>1443 m²</td>\n",
              "      <td>6.0</td>\n",
              "      <td>NaN</td>\n",
              "      <td>NaN</td>\n",
              "      <td>NaN</td>\n",
              "      <td>NaN</td>\n",
              "      <td>NaN</td>\n",
              "      <td>NaN</td>\n",
              "      <td>03-04-2022</td>\n",
              "    </tr>\n",
              "    <tr>\n",
              "      <th>2</th>\n",
              "      <td>Casa</td>\n",
              "      <td>Cumbayá</td>\n",
              "      <td>275 m²</td>\n",
              "      <td>USD360.000</td>\n",
              "      <td>Cumbayá, junto al Colegio Menor</td>\n",
              "      <td>3.0</td>\n",
              "      <td>3.0</td>\n",
              "      <td>A Estrenar</td>\n",
              "      <td>60 m²</td>\n",
              "      <td>4.0</td>\n",
              "      <td>NaN</td>\n",
              "      <td>NaN</td>\n",
              "      <td>NaN</td>\n",
              "      <td>NaN</td>\n",
              "      <td>NaN</td>\n",
              "      <td>NaN</td>\n",
              "      <td>03-04-2022</td>\n",
              "    </tr>\n",
              "    <tr>\n",
              "      <th>3</th>\n",
              "      <td>Terreno</td>\n",
              "      <td>Checa</td>\n",
              "      <td>NaN</td>\n",
              "      <td>USD275.000</td>\n",
              "      <td>Checa</td>\n",
              "      <td>NaN</td>\n",
              "      <td>NaN</td>\n",
              "      <td>NaN</td>\n",
              "      <td>5000 m²</td>\n",
              "      <td>NaN</td>\n",
              "      <td>No</td>\n",
              "      <td>No</td>\n",
              "      <td>NaN</td>\n",
              "      <td>NaN</td>\n",
              "      <td>NaN</td>\n",
              "      <td>NaN</td>\n",
              "      <td>03-04-2022</td>\n",
              "    </tr>\n",
              "    <tr>\n",
              "      <th>4</th>\n",
              "      <td>Casa</td>\n",
              "      <td>Cumbayá</td>\n",
              "      <td>1740 m²</td>\n",
              "      <td>USD850.000</td>\n",
              "      <td>Tanda</td>\n",
              "      <td>4.0</td>\n",
              "      <td>3.0</td>\n",
              "      <td>8</td>\n",
              "      <td>NaN</td>\n",
              "      <td>NaN</td>\n",
              "      <td>NaN</td>\n",
              "      <td>NaN</td>\n",
              "      <td>NaN</td>\n",
              "      <td>NaN</td>\n",
              "      <td>NaN</td>\n",
              "      <td>NaN</td>\n",
              "      <td>03-04-2022</td>\n",
              "    </tr>\n",
              "    <tr>\n",
              "      <th>5</th>\n",
              "      <td>Casa</td>\n",
              "      <td>Cumbayá</td>\n",
              "      <td>240 m²</td>\n",
              "      <td>USD319.000</td>\n",
              "      <td>Urbanización Pachosalas</td>\n",
              "      <td>3.0</td>\n",
              "      <td>3.0</td>\n",
              "      <td>A Estrenar</td>\n",
              "      <td>123 m²</td>\n",
              "      <td>4.0</td>\n",
              "      <td>NaN</td>\n",
              "      <td>NaN</td>\n",
              "      <td>NaN</td>\n",
              "      <td>NaN</td>\n",
              "      <td>NaN</td>\n",
              "      <td>NaN</td>\n",
              "      <td>03-04-2022</td>\n",
              "    </tr>\n",
              "    <tr>\n",
              "      <th>6</th>\n",
              "      <td>Casa</td>\n",
              "      <td>Cumbayá</td>\n",
              "      <td>221 m²</td>\n",
              "      <td>USD298.000</td>\n",
              "      <td>Urbanización Pachosalas</td>\n",
              "      <td>3.0</td>\n",
              "      <td>3.0</td>\n",
              "      <td>A Estrenar</td>\n",
              "      <td>112 m²</td>\n",
              "      <td>4.0</td>\n",
              "      <td>NaN</td>\n",
              "      <td>NaN</td>\n",
              "      <td>NaN</td>\n",
              "      <td>NaN</td>\n",
              "      <td>NaN</td>\n",
              "      <td>NaN</td>\n",
              "      <td>03-04-2022</td>\n",
              "    </tr>\n",
              "    <tr>\n",
              "      <th>7</th>\n",
              "      <td>Terreno</td>\n",
              "      <td>Puembo</td>\n",
              "      <td>NaN</td>\n",
              "      <td>USD138.000</td>\n",
              "      <td>Urbanización Plaza del Parque Puembo</td>\n",
              "      <td>NaN</td>\n",
              "      <td>NaN</td>\n",
              "      <td>NaN</td>\n",
              "      <td>596 m²</td>\n",
              "      <td>NaN</td>\n",
              "      <td>Si</td>\n",
              "      <td>Si</td>\n",
              "      <td>NaN</td>\n",
              "      <td>NaN</td>\n",
              "      <td>NaN</td>\n",
              "      <td>NaN</td>\n",
              "      <td>03-04-2022</td>\n",
              "    </tr>\n",
              "    <tr>\n",
              "      <th>8</th>\n",
              "      <td>Departamento</td>\n",
              "      <td>Cumbayá</td>\n",
              "      <td>174 m²</td>\n",
              "      <td>USD219.000</td>\n",
              "      <td>Cumbayá, Proyecto Sironi</td>\n",
              "      <td>3.0</td>\n",
              "      <td>2.0</td>\n",
              "      <td>5</td>\n",
              "      <td>120 m²</td>\n",
              "      <td>4.0</td>\n",
              "      <td>NaN</td>\n",
              "      <td>NaN</td>\n",
              "      <td>NaN</td>\n",
              "      <td>NaN</td>\n",
              "      <td>NaN</td>\n",
              "      <td>NaN</td>\n",
              "      <td>03-04-2022</td>\n",
              "    </tr>\n",
              "    <tr>\n",
              "      <th>9</th>\n",
              "      <td>Terreno</td>\n",
              "      <td>Cumbayá</td>\n",
              "      <td>NaN</td>\n",
              "      <td>USD498.780</td>\n",
              "      <td>La Viña del Río Parte alta</td>\n",
              "      <td>NaN</td>\n",
              "      <td>NaN</td>\n",
              "      <td>NaN</td>\n",
              "      <td>1467 m²</td>\n",
              "      <td>NaN</td>\n",
              "      <td>Si</td>\n",
              "      <td>Si</td>\n",
              "      <td>NaN</td>\n",
              "      <td>NaN</td>\n",
              "      <td>NaN</td>\n",
              "      <td>NaN</td>\n",
              "      <td>03-04-2022</td>\n",
              "    </tr>\n",
              "    <tr>\n",
              "      <th>10</th>\n",
              "      <td>Terreno</td>\n",
              "      <td>Cumbayá</td>\n",
              "      <td>NaN</td>\n",
              "      <td>USD795.520</td>\n",
              "      <td>Urbanización Viña del Río</td>\n",
              "      <td>NaN</td>\n",
              "      <td>NaN</td>\n",
              "      <td>NaN</td>\n",
              "      <td>2486 m²</td>\n",
              "      <td>NaN</td>\n",
              "      <td>Si</td>\n",
              "      <td>Si</td>\n",
              "      <td>NaN</td>\n",
              "      <td>NaN</td>\n",
              "      <td>NaN</td>\n",
              "      <td>NaN</td>\n",
              "      <td>03-04-2022</td>\n",
              "    </tr>\n",
              "    <tr>\n",
              "      <th>11</th>\n",
              "      <td>Terreno</td>\n",
              "      <td>Cumbayá</td>\n",
              "      <td>NaN</td>\n",
              "      <td>USD625.000</td>\n",
              "      <td>Urbanización La Quinta, Cumbayá</td>\n",
              "      <td>NaN</td>\n",
              "      <td>NaN</td>\n",
              "      <td>NaN</td>\n",
              "      <td>1000 m²</td>\n",
              "      <td>NaN</td>\n",
              "      <td>Si</td>\n",
              "      <td>No</td>\n",
              "      <td>NaN</td>\n",
              "      <td>NaN</td>\n",
              "      <td>NaN</td>\n",
              "      <td>NaN</td>\n",
              "      <td>03-04-2022</td>\n",
              "    </tr>\n",
              "    <tr>\n",
              "      <th>12</th>\n",
              "      <td>Hotel</td>\n",
              "      <td>Atacames</td>\n",
              "      <td>2526 m²</td>\n",
              "      <td>USD5.500.000</td>\n",
              "      <td>Atacames</td>\n",
              "      <td>NaN</td>\n",
              "      <td>NaN</td>\n",
              "      <td>NaN</td>\n",
              "      <td>5650 m²</td>\n",
              "      <td>NaN</td>\n",
              "      <td>NaN</td>\n",
              "      <td>NaN</td>\n",
              "      <td>NaN</td>\n",
              "      <td>NaN</td>\n",
              "      <td>NaN</td>\n",
              "      <td>NaN</td>\n",
              "      <td>03-04-2022</td>\n",
              "    </tr>\n",
              "    <tr>\n",
              "      <th>13</th>\n",
              "      <td>Departamento</td>\n",
              "      <td>Cumbayá</td>\n",
              "      <td>116 m²</td>\n",
              "      <td>USD210.000</td>\n",
              "      <td>Urbanización La Primavera</td>\n",
              "      <td>3.0</td>\n",
              "      <td>2.0</td>\n",
              "      <td>2</td>\n",
              "      <td>NaN</td>\n",
              "      <td>4.0</td>\n",
              "      <td>NaN</td>\n",
              "      <td>NaN</td>\n",
              "      <td>NaN</td>\n",
              "      <td>NaN</td>\n",
              "      <td>NaN</td>\n",
              "      <td>NaN</td>\n",
              "      <td>03-04-2022</td>\n",
              "    </tr>\n",
              "    <tr>\n",
              "      <th>14</th>\n",
              "      <td>Casa</td>\n",
              "      <td>Puembo</td>\n",
              "      <td>500 m²</td>\n",
              "      <td>USD725.000</td>\n",
              "      <td>Puembo, Sector Las Palmas</td>\n",
              "      <td>4.0</td>\n",
              "      <td>4.0</td>\n",
              "      <td>A Estrenar</td>\n",
              "      <td>2437 m²</td>\n",
              "      <td>5.0</td>\n",
              "      <td>NaN</td>\n",
              "      <td>NaN</td>\n",
              "      <td>NaN</td>\n",
              "      <td>NaN</td>\n",
              "      <td>NaN</td>\n",
              "      <td>NaN</td>\n",
              "      <td>03-04-2022</td>\n",
              "    </tr>\n",
              "    <tr>\n",
              "      <th>15</th>\n",
              "      <td>Casa</td>\n",
              "      <td>Cumbayá</td>\n",
              "      <td>181 m²</td>\n",
              "      <td>USD285.000</td>\n",
              "      <td>San Juan Alto</td>\n",
              "      <td>3.0</td>\n",
              "      <td>2.0</td>\n",
              "      <td>2</td>\n",
              "      <td>64 m²</td>\n",
              "      <td>4.0</td>\n",
              "      <td>NaN</td>\n",
              "      <td>NaN</td>\n",
              "      <td>NaN</td>\n",
              "      <td>NaN</td>\n",
              "      <td>NaN</td>\n",
              "      <td>NaN</td>\n",
              "      <td>03-04-2022</td>\n",
              "    </tr>\n",
              "    <tr>\n",
              "      <th>16</th>\n",
              "      <td>Casa</td>\n",
              "      <td>Tumbaco</td>\n",
              "      <td>400 m²</td>\n",
              "      <td>USD370.000</td>\n",
              "      <td>San José de la Viña, Tumbaco</td>\n",
              "      <td>4.0</td>\n",
              "      <td>3.0</td>\n",
              "      <td>9</td>\n",
              "      <td>1320 m²</td>\n",
              "      <td>6.0</td>\n",
              "      <td>NaN</td>\n",
              "      <td>NaN</td>\n",
              "      <td>NaN</td>\n",
              "      <td>NaN</td>\n",
              "      <td>NaN</td>\n",
              "      <td>NaN</td>\n",
              "      <td>03-04-2022</td>\n",
              "    </tr>\n",
              "    <tr>\n",
              "      <th>17</th>\n",
              "      <td>Casa</td>\n",
              "      <td>Tumbaco</td>\n",
              "      <td>569 m²</td>\n",
              "      <td>USD850.000</td>\n",
              "      <td>Tumbaco, Sector Hilacril</td>\n",
              "      <td>3.0</td>\n",
              "      <td>3.0</td>\n",
              "      <td>A Estrenar</td>\n",
              "      <td>1520 m²</td>\n",
              "      <td>5.0</td>\n",
              "      <td>NaN</td>\n",
              "      <td>NaN</td>\n",
              "      <td>NaN</td>\n",
              "      <td>NaN</td>\n",
              "      <td>NaN</td>\n",
              "      <td>NaN</td>\n",
              "      <td>03-04-2022</td>\n",
              "    </tr>\n",
              "    <tr>\n",
              "      <th>18</th>\n",
              "      <td>Casa</td>\n",
              "      <td>Cumbayá</td>\n",
              "      <td>390 m²</td>\n",
              "      <td>USD580.000</td>\n",
              "      <td>Cumbayá, frente a la ciclovía</td>\n",
              "      <td>3.0</td>\n",
              "      <td>3.0</td>\n",
              "      <td>8</td>\n",
              "      <td>642 m²</td>\n",
              "      <td>5.0</td>\n",
              "      <td>NaN</td>\n",
              "      <td>NaN</td>\n",
              "      <td>NaN</td>\n",
              "      <td>NaN</td>\n",
              "      <td>NaN</td>\n",
              "      <td>NaN</td>\n",
              "      <td>03-04-2022</td>\n",
              "    </tr>\n",
              "    <tr>\n",
              "      <th>19</th>\n",
              "      <td>Terreno</td>\n",
              "      <td>Puembo</td>\n",
              "      <td>NaN</td>\n",
              "      <td>USD203.000</td>\n",
              "      <td>Puembo</td>\n",
              "      <td>NaN</td>\n",
              "      <td>NaN</td>\n",
              "      <td>NaN</td>\n",
              "      <td>1000 m²</td>\n",
              "      <td>NaN</td>\n",
              "      <td>Si</td>\n",
              "      <td>Si</td>\n",
              "      <td>NaN</td>\n",
              "      <td>NaN</td>\n",
              "      <td>NaN</td>\n",
              "      <td>NaN</td>\n",
              "      <td>03-04-2022</td>\n",
              "    </tr>\n",
              "    <tr>\n",
              "      <th>20</th>\n",
              "      <td>Terreno</td>\n",
              "      <td>Tumbaco</td>\n",
              "      <td>NaN</td>\n",
              "      <td>USD240.000</td>\n",
              "      <td>Collaquí, Tumbaco, Urbanización Yarakuna</td>\n",
              "      <td>NaN</td>\n",
              "      <td>NaN</td>\n",
              "      <td>NaN</td>\n",
              "      <td>1017 m²</td>\n",
              "      <td>NaN</td>\n",
              "      <td>Si</td>\n",
              "      <td>Si</td>\n",
              "      <td>NaN</td>\n",
              "      <td>NaN</td>\n",
              "      <td>NaN</td>\n",
              "      <td>NaN</td>\n",
              "      <td>03-04-2022</td>\n",
              "    </tr>\n",
              "    <tr>\n",
              "      <th>21</th>\n",
              "      <td>Terreno</td>\n",
              "      <td>Tumbaco</td>\n",
              "      <td>NaN</td>\n",
              "      <td>USD236.600</td>\n",
              "      <td>Tumbaco, Urbanización Chaupi</td>\n",
              "      <td>NaN</td>\n",
              "      <td>NaN</td>\n",
              "      <td>NaN</td>\n",
              "      <td>910 m²</td>\n",
              "      <td>NaN</td>\n",
              "      <td>Si</td>\n",
              "      <td>Si</td>\n",
              "      <td>NaN</td>\n",
              "      <td>NaN</td>\n",
              "      <td>NaN</td>\n",
              "      <td>NaN</td>\n",
              "      <td>03-04-2022</td>\n",
              "    </tr>\n",
              "    <tr>\n",
              "      <th>22</th>\n",
              "      <td>Terreno</td>\n",
              "      <td>Tumbaco</td>\n",
              "      <td>NaN</td>\n",
              "      <td>USD260.000</td>\n",
              "      <td>Tumbaco, cerca al Chaquiñán</td>\n",
              "      <td>NaN</td>\n",
              "      <td>NaN</td>\n",
              "      <td>NaN</td>\n",
              "      <td>1000 m²</td>\n",
              "      <td>NaN</td>\n",
              "      <td>Si</td>\n",
              "      <td>Si</td>\n",
              "      <td>NaN</td>\n",
              "      <td>NaN</td>\n",
              "      <td>NaN</td>\n",
              "      <td>NaN</td>\n",
              "      <td>03-04-2022</td>\n",
              "    </tr>\n",
              "    <tr>\n",
              "      <th>23</th>\n",
              "      <td>Casa</td>\n",
              "      <td>Nayón - Tanda</td>\n",
              "      <td>711 m²</td>\n",
              "      <td>USD750.000</td>\n",
              "      <td>Nayón, Urbanización cerrada</td>\n",
              "      <td>4.0</td>\n",
              "      <td>4.0</td>\n",
              "      <td>9</td>\n",
              "      <td>1199 m²</td>\n",
              "      <td>9.0</td>\n",
              "      <td>NaN</td>\n",
              "      <td>NaN</td>\n",
              "      <td>NaN</td>\n",
              "      <td>NaN</td>\n",
              "      <td>NaN</td>\n",
              "      <td>NaN</td>\n",
              "      <td>03-04-2022</td>\n",
              "    </tr>\n",
              "    <tr>\n",
              "      <th>24</th>\n",
              "      <td>Departamento</td>\n",
              "      <td>La Carolina</td>\n",
              "      <td>185 m²</td>\n",
              "      <td>USD460.000</td>\n",
              "      <td>Carolina</td>\n",
              "      <td>2.0</td>\n",
              "      <td>2.0</td>\n",
              "      <td>1</td>\n",
              "      <td>NaN</td>\n",
              "      <td>4.0</td>\n",
              "      <td>NaN</td>\n",
              "      <td>NaN</td>\n",
              "      <td>NaN</td>\n",
              "      <td>NaN</td>\n",
              "      <td>NaN</td>\n",
              "      <td>NaN</td>\n",
              "      <td>03-04-2022</td>\n",
              "    </tr>\n",
              "    <tr>\n",
              "      <th>25</th>\n",
              "      <td>Departamento</td>\n",
              "      <td>Cumbayá</td>\n",
              "      <td>580 m²</td>\n",
              "      <td>USD440.000</td>\n",
              "      <td>Urbanización Eucaliptos, Cumbayá</td>\n",
              "      <td>4.0</td>\n",
              "      <td>3.0</td>\n",
              "      <td>15</td>\n",
              "      <td>80 m²</td>\n",
              "      <td>6.0</td>\n",
              "      <td>NaN</td>\n",
              "      <td>NaN</td>\n",
              "      <td>NaN</td>\n",
              "      <td>NaN</td>\n",
              "      <td>NaN</td>\n",
              "      <td>NaN</td>\n",
              "      <td>03-04-2022</td>\n",
              "    </tr>\n",
              "    <tr>\n",
              "      <th>26</th>\n",
              "      <td>Casa</td>\n",
              "      <td>Cumbayá</td>\n",
              "      <td>700 m²</td>\n",
              "      <td>USD890.000</td>\n",
              "      <td>Urbanización La Viña</td>\n",
              "      <td>4.0</td>\n",
              "      <td>4.0</td>\n",
              "      <td>6</td>\n",
              "      <td>1042 m²</td>\n",
              "      <td>6.0</td>\n",
              "      <td>NaN</td>\n",
              "      <td>NaN</td>\n",
              "      <td>NaN</td>\n",
              "      <td>NaN</td>\n",
              "      <td>NaN</td>\n",
              "      <td>NaN</td>\n",
              "      <td>03-04-2022</td>\n",
              "    </tr>\n",
              "    <tr>\n",
              "      <th>27</th>\n",
              "      <td>Terreno</td>\n",
              "      <td>Tumbaco</td>\n",
              "      <td>NaN</td>\n",
              "      <td>USD260.000</td>\n",
              "      <td>Tumbaco</td>\n",
              "      <td>NaN</td>\n",
              "      <td>NaN</td>\n",
              "      <td>NaN</td>\n",
              "      <td>895 m²</td>\n",
              "      <td>NaN</td>\n",
              "      <td>Si</td>\n",
              "      <td>No</td>\n",
              "      <td>NaN</td>\n",
              "      <td>NaN</td>\n",
              "      <td>NaN</td>\n",
              "      <td>NaN</td>\n",
              "      <td>03-04-2022</td>\n",
              "    </tr>\n",
              "    <tr>\n",
              "      <th>28</th>\n",
              "      <td>Terreno</td>\n",
              "      <td>Tumbaco</td>\n",
              "      <td>NaN</td>\n",
              "      <td>USD139.000</td>\n",
              "      <td>Tumbaco, Sector Hilacril</td>\n",
              "      <td>NaN</td>\n",
              "      <td>NaN</td>\n",
              "      <td>NaN</td>\n",
              "      <td>696 m²</td>\n",
              "      <td>NaN</td>\n",
              "      <td>No</td>\n",
              "      <td>Si</td>\n",
              "      <td>NaN</td>\n",
              "      <td>NaN</td>\n",
              "      <td>NaN</td>\n",
              "      <td>NaN</td>\n",
              "      <td>03-04-2022</td>\n",
              "    </tr>\n",
              "    <tr>\n",
              "      <th>29</th>\n",
              "      <td>Casa</td>\n",
              "      <td>Cumbayá</td>\n",
              "      <td>580 m²</td>\n",
              "      <td>USD620.000</td>\n",
              "      <td>Urbanización Cumbres del Valle</td>\n",
              "      <td>4.0</td>\n",
              "      <td>4.0</td>\n",
              "      <td>9</td>\n",
              "      <td>698 m²</td>\n",
              "      <td>6.0</td>\n",
              "      <td>NaN</td>\n",
              "      <td>NaN</td>\n",
              "      <td>NaN</td>\n",
              "      <td>NaN</td>\n",
              "      <td>NaN</td>\n",
              "      <td>NaN</td>\n",
              "      <td>03-04-2022</td>\n",
              "    </tr>\n",
              "  </tbody>\n",
              "</table>\n",
              "</div>\n",
              "    <div class=\"colab-df-buttons\">\n",
              "\n",
              "  <div class=\"colab-df-container\">\n",
              "    <button class=\"colab-df-convert\" onclick=\"convertToInteractive('df-13bff96f-5124-4e94-ad01-727610c78156')\"\n",
              "            title=\"Convert this dataframe to an interactive table.\"\n",
              "            style=\"display:none;\">\n",
              "\n",
              "  <svg xmlns=\"http://www.w3.org/2000/svg\" height=\"24px\" viewBox=\"0 -960 960 960\">\n",
              "    <path d=\"M120-120v-720h720v720H120Zm60-500h600v-160H180v160Zm220 220h160v-160H400v160Zm0 220h160v-160H400v160ZM180-400h160v-160H180v160Zm440 0h160v-160H620v160ZM180-180h160v-160H180v160Zm440 0h160v-160H620v160Z\"/>\n",
              "  </svg>\n",
              "    </button>\n",
              "\n",
              "  <style>\n",
              "    .colab-df-container {\n",
              "      display:flex;\n",
              "      gap: 12px;\n",
              "    }\n",
              "\n",
              "    .colab-df-convert {\n",
              "      background-color: #E8F0FE;\n",
              "      border: none;\n",
              "      border-radius: 50%;\n",
              "      cursor: pointer;\n",
              "      display: none;\n",
              "      fill: #1967D2;\n",
              "      height: 32px;\n",
              "      padding: 0 0 0 0;\n",
              "      width: 32px;\n",
              "    }\n",
              "\n",
              "    .colab-df-convert:hover {\n",
              "      background-color: #E2EBFA;\n",
              "      box-shadow: 0px 1px 2px rgba(60, 64, 67, 0.3), 0px 1px 3px 1px rgba(60, 64, 67, 0.15);\n",
              "      fill: #174EA6;\n",
              "    }\n",
              "\n",
              "    .colab-df-buttons div {\n",
              "      margin-bottom: 4px;\n",
              "    }\n",
              "\n",
              "    [theme=dark] .colab-df-convert {\n",
              "      background-color: #3B4455;\n",
              "      fill: #D2E3FC;\n",
              "    }\n",
              "\n",
              "    [theme=dark] .colab-df-convert:hover {\n",
              "      background-color: #434B5C;\n",
              "      box-shadow: 0px 1px 3px 1px rgba(0, 0, 0, 0.15);\n",
              "      filter: drop-shadow(0px 1px 2px rgba(0, 0, 0, 0.3));\n",
              "      fill: #FFFFFF;\n",
              "    }\n",
              "  </style>\n",
              "\n",
              "    <script>\n",
              "      const buttonEl =\n",
              "        document.querySelector('#df-13bff96f-5124-4e94-ad01-727610c78156 button.colab-df-convert');\n",
              "      buttonEl.style.display =\n",
              "        google.colab.kernel.accessAllowed ? 'block' : 'none';\n",
              "\n",
              "      async function convertToInteractive(key) {\n",
              "        const element = document.querySelector('#df-13bff96f-5124-4e94-ad01-727610c78156');\n",
              "        const dataTable =\n",
              "          await google.colab.kernel.invokeFunction('convertToInteractive',\n",
              "                                                    [key], {});\n",
              "        if (!dataTable) return;\n",
              "\n",
              "        const docLinkHtml = 'Like what you see? Visit the ' +\n",
              "          '<a target=\"_blank\" href=https://colab.research.google.com/notebooks/data_table.ipynb>data table notebook</a>'\n",
              "          + ' to learn more about interactive tables.';\n",
              "        element.innerHTML = '';\n",
              "        dataTable['output_type'] = 'display_data';\n",
              "        await google.colab.output.renderOutput(dataTable, element);\n",
              "        const docLink = document.createElement('div');\n",
              "        docLink.innerHTML = docLinkHtml;\n",
              "        element.appendChild(docLink);\n",
              "      }\n",
              "    </script>\n",
              "  </div>\n",
              "\n",
              "\n",
              "<div id=\"df-50e76f80-a9a3-45d6-8859-32f4258ad7ff\">\n",
              "  <button class=\"colab-df-quickchart\" onclick=\"quickchart('df-50e76f80-a9a3-45d6-8859-32f4258ad7ff')\"\n",
              "            title=\"Suggest charts.\"\n",
              "            style=\"display:none;\">\n",
              "\n",
              "<svg xmlns=\"http://www.w3.org/2000/svg\" height=\"24px\"viewBox=\"0 0 24 24\"\n",
              "     width=\"24px\">\n",
              "    <g>\n",
              "        <path d=\"M19 3H5c-1.1 0-2 .9-2 2v14c0 1.1.9 2 2 2h14c1.1 0 2-.9 2-2V5c0-1.1-.9-2-2-2zM9 17H7v-7h2v7zm4 0h-2V7h2v10zm4 0h-2v-4h2v4z\"/>\n",
              "    </g>\n",
              "</svg>\n",
              "  </button>\n",
              "\n",
              "<style>\n",
              "  .colab-df-quickchart {\n",
              "    background-color: #E8F0FE;\n",
              "    border: none;\n",
              "    border-radius: 50%;\n",
              "    cursor: pointer;\n",
              "    display: none;\n",
              "    fill: #1967D2;\n",
              "    height: 32px;\n",
              "    padding: 0 0 0 0;\n",
              "    width: 32px;\n",
              "  }\n",
              "\n",
              "  .colab-df-quickchart:hover {\n",
              "    background-color: #E2EBFA;\n",
              "    box-shadow: 0px 1px 2px rgba(60, 64, 67, 0.3), 0px 1px 3px 1px rgba(60, 64, 67, 0.15);\n",
              "    fill: #174EA6;\n",
              "  }\n",
              "\n",
              "  [theme=dark] .colab-df-quickchart {\n",
              "    background-color: #3B4455;\n",
              "    fill: #D2E3FC;\n",
              "  }\n",
              "\n",
              "  [theme=dark] .colab-df-quickchart:hover {\n",
              "    background-color: #434B5C;\n",
              "    box-shadow: 0px 1px 3px 1px rgba(0, 0, 0, 0.15);\n",
              "    filter: drop-shadow(0px 1px 2px rgba(0, 0, 0, 0.3));\n",
              "    fill: #FFFFFF;\n",
              "  }\n",
              "</style>\n",
              "\n",
              "  <script>\n",
              "    async function quickchart(key) {\n",
              "      const charts = await google.colab.kernel.invokeFunction(\n",
              "          'suggestCharts', [key], {});\n",
              "    }\n",
              "    (() => {\n",
              "      let quickchartButtonEl =\n",
              "        document.querySelector('#df-50e76f80-a9a3-45d6-8859-32f4258ad7ff button');\n",
              "      quickchartButtonEl.style.display =\n",
              "        google.colab.kernel.accessAllowed ? 'block' : 'none';\n",
              "    })();\n",
              "  </script>\n",
              "</div>\n",
              "    </div>\n",
              "  </div>\n"
            ]
          },
          "metadata": {},
          "execution_count": 168
        }
      ]
    },
    {
      "cell_type": "code",
      "source": [
        "df_housing.info()"
      ],
      "metadata": {
        "colab": {
          "base_uri": "https://localhost:8080/"
        },
        "id": "QxKPdzFpDPK-",
        "outputId": "fed40086-8081-468c-fdcb-7e87de48a85b"
      },
      "execution_count": 169,
      "outputs": [
        {
          "output_type": "stream",
          "name": "stdout",
          "text": [
            "<class 'pandas.core.frame.DataFrame'>\n",
            "RangeIndex: 206 entries, 0 to 205\n",
            "Data columns (total 17 columns):\n",
            " #   Column             Non-Null Count  Dtype  \n",
            "---  ------             --------------  -----  \n",
            " 0   Tipo de Propiedad  206 non-null    object \n",
            " 1   Sector             206 non-null    object \n",
            " 2   Total construido   128 non-null    object \n",
            " 3   Precio             206 non-null    object \n",
            " 4   Referencia         206 non-null    object \n",
            " 5   Dormitorios        121 non-null    float64\n",
            " 6   Baños              126 non-null    float64\n",
            " 7   Antiguedad         132 non-null    object \n",
            " 8   Superficie         137 non-null    object \n",
            " 9   Ambientes          108 non-null    float64\n",
            " 10  24 Hours Security  73 non-null     object \n",
            " 11  Alcantarillado     73 non-null     object \n",
            " 12  Parqueadero fijo   10 non-null     object \n",
            " 13  Seguridad 24Hs     10 non-null     object \n",
            " 14  Expensas           7 non-null      float64\n",
            " 15  Fecha de entrega   4 non-null      object \n",
            " 16  Fecha              206 non-null    object \n",
            "dtypes: float64(4), object(13)\n",
            "memory usage: 27.5+ KB\n"
          ]
        }
      ]
    },
    {
      "cell_type": "markdown",
      "source": [
        "###- Eliminar columnas innecesarias"
      ],
      "metadata": {
        "id": "QLfnnC2KJRZd"
      }
    },
    {
      "cell_type": "code",
      "source": [
        "df_housing.columns"
      ],
      "metadata": {
        "colab": {
          "base_uri": "https://localhost:8080/"
        },
        "id": "50A-bBb7Jdep",
        "outputId": "5b2e7787-0ec5-4a20-c808-34983d2dc9c8"
      },
      "execution_count": 170,
      "outputs": [
        {
          "output_type": "execute_result",
          "data": {
            "text/plain": [
              "Index(['Tipo de Propiedad', 'Sector', 'Total construido', 'Precio',\n",
              "       'Referencia', 'Dormitorios', 'Baños', 'Antiguedad', 'Superficie',\n",
              "       'Ambientes', '24 Hours Security', 'Alcantarillado', 'Parqueadero fijo',\n",
              "       'Seguridad 24Hs', 'Expensas', 'Fecha de entrega', 'Fecha'],\n",
              "      dtype='object')"
            ]
          },
          "metadata": {},
          "execution_count": 170
        }
      ]
    },
    {
      "cell_type": "markdown",
      "source": [
        "Existen dos columnas de seguridad, voy a combinarlas y dejar una única columna"
      ],
      "metadata": {
        "id": "kwCgP8ZSxgNi"
      }
    },
    {
      "cell_type": "code",
      "source": [
        "df_housing['Seguridad 24Hs'].value_counts()"
      ],
      "metadata": {
        "colab": {
          "base_uri": "https://localhost:8080/"
        },
        "id": "COO-eeJSL6oX",
        "outputId": "0d5b2b75-f988-4e34-8576-80cdcfa8bab5"
      },
      "execution_count": 171,
      "outputs": [
        {
          "output_type": "execute_result",
          "data": {
            "text/plain": [
              "Si    8\n",
              "No    2\n",
              "Name: Seguridad 24Hs, dtype: int64"
            ]
          },
          "metadata": {},
          "execution_count": 171
        }
      ]
    },
    {
      "cell_type": "code",
      "source": [
        "df_housing['24 Hours Security'].value_counts()"
      ],
      "metadata": {
        "colab": {
          "base_uri": "https://localhost:8080/"
        },
        "id": "U2bm9ISDy3OQ",
        "outputId": "7ce8b678-13b9-4cb7-acda-702f8e67ba77"
      },
      "execution_count": 172,
      "outputs": [
        {
          "output_type": "execute_result",
          "data": {
            "text/plain": [
              "Si    45\n",
              "No    28\n",
              "Name: 24 Hours Security, dtype: int64"
            ]
          },
          "metadata": {},
          "execution_count": 172
        }
      ]
    },
    {
      "cell_type": "markdown",
      "source": [
        "Transformo las columnas a booleano con un diccionario"
      ],
      "metadata": {
        "id": "lj7bdtIdzD6I"
      }
    },
    {
      "cell_type": "code",
      "source": [
        "dic_seg={'Si':True, 'No':False}\n",
        "df_housing['Seguridad 24Hs'].replace(dic_seg, inplace=True)\n",
        "df_housing['24 Hours Security'].replace(dic_seg,inplace=True)"
      ],
      "metadata": {
        "id": "dDxyUcwhzDcB"
      },
      "execution_count": 173,
      "outputs": []
    },
    {
      "cell_type": "markdown",
      "source": [
        "En ambas voy a reemplazar el valor NAN con False"
      ],
      "metadata": {
        "id": "BaH592pH0Rew"
      }
    },
    {
      "cell_type": "code",
      "source": [
        "df_housing['Seguridad 24Hs'].fillna(False, inplace=True)\n",
        "df_housing['24 Hours Security'].fillna(False, inplace=True)"
      ],
      "metadata": {
        "id": "DYDMLNdr0DWn"
      },
      "execution_count": 174,
      "outputs": []
    },
    {
      "cell_type": "markdown",
      "source": [
        "Combino las dos columnas con una operación booleana + (OR) para marcar verdadero si cualquiera de las dos columnas es verdadera, y falso si las dos columnas muestran valor falso."
      ],
      "metadata": {
        "id": "2Bh2P9Q11HaH"
      }
    },
    {
      "cell_type": "code",
      "source": [
        "df_housing['Seguridad24h']=df_housing['Seguridad 24Hs'] + df_housing['24 Hours Security']"
      ],
      "metadata": {
        "id": "MdaAeKAh11ND"
      },
      "execution_count": 175,
      "outputs": []
    },
    {
      "cell_type": "code",
      "source": [
        "#Elimino columnas de seguridad originales\n",
        "df_housing.drop(['Seguridad 24Hs','24 Hours Security'], axis=1, inplace=True)"
      ],
      "metadata": {
        "id": "Dsrq7vZC2E7Y"
      },
      "execution_count": 176,
      "outputs": []
    },
    {
      "cell_type": "code",
      "source": [
        "df_housing['Seguridad24h'].value_counts()"
      ],
      "metadata": {
        "colab": {
          "base_uri": "https://localhost:8080/"
        },
        "id": "_NBWMYFW2cAW",
        "outputId": "1a3c4ca8-8ab5-4f95-c111-c3c66273355f"
      },
      "execution_count": 177,
      "outputs": [
        {
          "output_type": "execute_result",
          "data": {
            "text/plain": [
              "False    153\n",
              "True      53\n",
              "Name: Seguridad24h, dtype: int64"
            ]
          },
          "metadata": {},
          "execution_count": 177
        }
      ]
    },
    {
      "cell_type": "code",
      "source": [
        "df_housing['Alcantarillado'].value_counts()"
      ],
      "metadata": {
        "colab": {
          "base_uri": "https://localhost:8080/"
        },
        "id": "z318KBK273iD",
        "outputId": "7a1a9485-dc1b-4861-d7a1-e91765d9887d"
      },
      "execution_count": 178,
      "outputs": [
        {
          "output_type": "execute_result",
          "data": {
            "text/plain": [
              "Si    41\n",
              "No    32\n",
              "Name: Alcantarillado, dtype: int64"
            ]
          },
          "metadata": {},
          "execution_count": 178
        }
      ]
    },
    {
      "cell_type": "markdown",
      "source": [
        "Elimino las columnas restantes con 10 datos o menos. Elimino la columna de Alcantarillado porque resulta difícil la imputación de un valor según frecuencia, o aleatorio.  "
      ],
      "metadata": {
        "id": "M2mv3gmu5Hzk"
      }
    },
    {
      "cell_type": "code",
      "source": [
        "df_housing.drop(['Alcantarillado', 'Parqueadero fijo', 'Expensas', 'Fecha de entrega', 'Fecha'], axis=1, inplace=True)"
      ],
      "metadata": {
        "id": "tZGYHx4r9Nh7"
      },
      "execution_count": 179,
      "outputs": []
    },
    {
      "cell_type": "markdown",
      "source": [
        "Elimina la columna de referencia porque es una variable de texto informativo sobre el sector.  Esta información ya la tiene la columna de sector."
      ],
      "metadata": {
        "id": "ZfLDsZNTI91u"
      }
    },
    {
      "cell_type": "code",
      "source": [
        "df_housing.drop(['Referencia'], axis=1, inplace=True)"
      ],
      "metadata": {
        "id": "k06NGnTtJG-r"
      },
      "execution_count": 180,
      "outputs": []
    },
    {
      "cell_type": "markdown",
      "source": [
        "##- Eliminar Duplicados"
      ],
      "metadata": {
        "id": "jjtPNOy69quZ"
      }
    },
    {
      "cell_type": "code",
      "source": [
        "df_housing.duplicated().sum()"
      ],
      "metadata": {
        "colab": {
          "base_uri": "https://localhost:8080/"
        },
        "id": "gKFV6KPK9Wkq",
        "outputId": "a679be4b-b217-45b5-b8cf-3b62d8543f3a"
      },
      "execution_count": 181,
      "outputs": [
        {
          "output_type": "execute_result",
          "data": {
            "text/plain": [
              "0"
            ]
          },
          "metadata": {},
          "execution_count": 181
        }
      ]
    },
    {
      "cell_type": "markdown",
      "source": [
        "No existen duplicados."
      ],
      "metadata": {
        "id": "8j7dMJKC9n0l"
      }
    },
    {
      "cell_type": "markdown",
      "source": [
        "##- Valores Faltantes"
      ],
      "metadata": {
        "id": "aXvRHvSv9da-"
      }
    },
    {
      "cell_type": "markdown",
      "source": [
        "- **Columna de Baños:**"
      ],
      "metadata": {
        "id": "QMzZbnv8HnxK"
      }
    },
    {
      "cell_type": "code",
      "source": [
        "  df_housing.groupby('Tipo de Propiedad')['Baños'].value_counts(dropna=False)"
      ],
      "metadata": {
        "colab": {
          "base_uri": "https://localhost:8080/"
        },
        "id": "dyq3P8cs9xZE",
        "outputId": "5395b880-7159-4bb9-ac2e-ac356ec8eece"
      },
      "execution_count": 182,
      "outputs": [
        {
          "output_type": "execute_result",
          "data": {
            "text/plain": [
              "Tipo de Propiedad  Baños\n",
              "Casa               3.0      36\n",
              "                   2.0      15\n",
              "                   4.0      15\n",
              "                   5.0       4\n",
              "                   7.0       1\n",
              "                   10.0      1\n",
              "Departamento       2.0      24\n",
              "                   3.0      15\n",
              "                   1.0       4\n",
              "                   4.0       1\n",
              "Galpón             NaN       1\n",
              "Hotel              NaN       1\n",
              "Oficina            NaN       5\n",
              "                   2.0       3\n",
              "                   1.0       2\n",
              "Quinta             3.0       2\n",
              "                   5.0       2\n",
              "                   2.0       1\n",
              "Terreno            NaN      73\n",
              "Name: Baños, dtype: int64"
            ]
          },
          "metadata": {},
          "execution_count": 182
        }
      ]
    },
    {
      "cell_type": "markdown",
      "source": [
        "De los datos se observa que se puede imputar 0 en los valores faltantes de Baños, por el tipo de propiedad (un terreno vacío no tiene baños todavía)"
      ],
      "metadata": {
        "id": "PnekxgSG-6GG"
      }
    },
    {
      "cell_type": "code",
      "source": [
        "df_housing['Baños'].fillna(0, inplace=True)"
      ],
      "metadata": {
        "id": "Ced2B8xKAwmX"
      },
      "execution_count": 183,
      "outputs": []
    },
    {
      "cell_type": "markdown",
      "source": [
        "- **Columna de ambientes:**"
      ],
      "metadata": {
        "id": "LELTmMJ8Hr5v"
      }
    },
    {
      "cell_type": "code",
      "source": [
        "df_housing.groupby('Tipo de Propiedad')['Ambientes'].value_counts(dropna=False)"
      ],
      "metadata": {
        "colab": {
          "base_uri": "https://localhost:8080/"
        },
        "id": "a_rLqvH4-Vcx",
        "outputId": "788a9621-afa5-467e-9ab9-095eba7a1af5"
      },
      "execution_count": 184,
      "outputs": [
        {
          "output_type": "execute_result",
          "data": {
            "text/plain": [
              "Tipo de Propiedad  Ambientes\n",
              "Casa               4.0          26\n",
              "                   5.0          21\n",
              "                   6.0          10\n",
              "                   NaN           6\n",
              "                   10.0          4\n",
              "                   7.0           2\n",
              "                   2.0           1\n",
              "                   8.0           1\n",
              "                   9.0           1\n",
              "Departamento       4.0          18\n",
              "                   3.0           8\n",
              "                   NaN           7\n",
              "                   5.0           6\n",
              "                   2.0           3\n",
              "                   6.0           2\n",
              "Galpón             NaN           1\n",
              "Hotel              NaN           1\n",
              "Oficina            NaN          10\n",
              "Quinta             8.0           2\n",
              "                   4.0           1\n",
              "                   5.0           1\n",
              "                   10.0          1\n",
              "Terreno            NaN          73\n",
              "Name: Ambientes, dtype: int64"
            ]
          },
          "metadata": {},
          "execution_count": 184
        }
      ]
    },
    {
      "cell_type": "markdown",
      "source": [
        "Puedo realizar una imputación con valores de 0 en terreno, en Galpon, Hotel y Oficina puedo colocar 1, y en Departamento y Casa puedo utilizar el promedio."
      ],
      "metadata": {
        "id": "5V8-PBx7BBib"
      }
    },
    {
      "cell_type": "code",
      "source": [
        "#Para imputar genero filtros\n",
        "filtro_casa=df_housing['Tipo de Propiedad']=='Casa'\n",
        "filtro_depar=df_housing['Tipo de Propiedad']=='Departamento'\n",
        "filtro_terreno=df_housing['Tipo de Propiedad']=='Terreno'\n",
        "\n",
        "prom_casa=df_housing['Ambientes'][filtro_casa].dropna().mean().round(2)\n",
        "prom_depar=round(df_housing['Ambientes'][filtro_depar].dropna().mean(),2)"
      ],
      "metadata": {
        "id": "4iZPN8Hp__jc"
      },
      "execution_count": 185,
      "outputs": []
    },
    {
      "cell_type": "code",
      "source": [
        "#Imputación en casas, departamentos y terrenos\n",
        "df_housing['Ambientes'][filtro_casa].fillna(prom_casa, inplace=True)\n",
        "df_housing['Ambientes'][filtro_depar].fillna(prom_depar, inplace=True)\n",
        "df_housing['Ambientes'][filtro_terreno].fillna(0, inplace=True)"
      ],
      "metadata": {
        "id": "Io0kIFI5C6-a"
      },
      "execution_count": 186,
      "outputs": []
    },
    {
      "cell_type": "code",
      "source": [
        "#Imputación en propiedades restantes\n",
        "df_housing['Ambientes'].fillna(1, inplace=True)"
      ],
      "metadata": {
        "id": "LpOrG8TOGG-z"
      },
      "execution_count": 187,
      "outputs": []
    },
    {
      "cell_type": "markdown",
      "source": [
        "- **Total construido**"
      ],
      "metadata": {
        "id": "0uhu2ZxyHVfL"
      }
    },
    {
      "cell_type": "code",
      "source": [
        "df_housing.groupby('Tipo de Propiedad')['Total construido'].value_counts(dropna=False)"
      ],
      "metadata": {
        "colab": {
          "base_uri": "https://localhost:8080/"
        },
        "outputId": "e179c96b-6ef3-4d5c-9dca-398e0fb70029",
        "id": "YMlEH43zLXgF"
      },
      "execution_count": 188,
      "outputs": [
        {
          "output_type": "execute_result",
          "data": {
            "text/plain": [
              "Tipo de Propiedad  Total construido\n",
              "Casa               160 m²               4\n",
              "                   240 m²               2\n",
              "                   275 m²               2\n",
              "                   300 m²               2\n",
              "                   400 m²               2\n",
              "                                       ..\n",
              "Quinta             400 m²               1\n",
              "                   500 m²               1\n",
              "                   750 m²               1\n",
              "                   900 m²               1\n",
              "Terreno            NaN                 73\n",
              "Name: Total construido, Length: 121, dtype: int64"
            ]
          },
          "metadata": {},
          "execution_count": 188
        }
      ]
    },
    {
      "cell_type": "markdown",
      "source": [
        "73 NaN en Terrenos, es posible imputarles 0."
      ],
      "metadata": {
        "id": "FoPjDUDmPZM7"
      }
    },
    {
      "cell_type": "code",
      "source": [
        "df_housing['Total construido'].isna().sum()"
      ],
      "metadata": {
        "colab": {
          "base_uri": "https://localhost:8080/"
        },
        "id": "ybym2CsJNKng",
        "outputId": "b0e9cbae-5f6c-405a-be5a-828e8ad36f4f"
      },
      "execution_count": 189,
      "outputs": [
        {
          "output_type": "execute_result",
          "data": {
            "text/plain": [
              "78"
            ]
          },
          "metadata": {},
          "execution_count": 189
        }
      ]
    },
    {
      "cell_type": "markdown",
      "source": [
        "5 valores faltantes se encuentran en otras propiedades que no son terrenos."
      ],
      "metadata": {
        "id": "ogpfo2d4NW9z"
      }
    },
    {
      "cell_type": "code",
      "source": [
        "df_housing.groupby(['Antiguedad','Tipo de Propiedad'])['Total construido'].apply(lambda x: x.isna().sum())"
      ],
      "metadata": {
        "colab": {
          "base_uri": "https://localhost:8080/"
        },
        "id": "FHQIEvm5H9_2",
        "outputId": "6e99d4f0-19d0-48f6-9321-fc77a8e59fef"
      },
      "execution_count": 190,
      "outputs": [
        {
          "output_type": "execute_result",
          "data": {
            "text/plain": [
              "Antiguedad       Tipo de Propiedad\n",
              "1                Casa                 0\n",
              "                 Departamento         0\n",
              "                 Oficina              1\n",
              "10               Casa                 0\n",
              "                 Departamento         0\n",
              "                 Quinta               0\n",
              "11               Casa                 0\n",
              "12               Casa                 0\n",
              "                 Departamento         0\n",
              "13               Casa                 0\n",
              "14               Quinta               0\n",
              "15               Casa                 0\n",
              "                 Departamento         0\n",
              "17               Casa                 0\n",
              "18               Casa                 0\n",
              "2                Casa                 0\n",
              "                 Departamento         0\n",
              "20               Casa                 0\n",
              "                 Quinta               0\n",
              "22               Departamento         0\n",
              "24               Casa                 0\n",
              "25               Casa                 0\n",
              "27               Departamento         0\n",
              "3                Casa                 0\n",
              "                 Departamento         0\n",
              "38               Casa                 0\n",
              "                 Departamento         0\n",
              "4                Casa                 0\n",
              "                 Departamento         0\n",
              "                 Oficina              0\n",
              "5                Casa                 0\n",
              "                 Departamento         0\n",
              "                 Oficina              2\n",
              "6                Casa                 0\n",
              "                 Departamento         0\n",
              "7                Casa                 0\n",
              "                 Departamento         0\n",
              "                 Oficina              0\n",
              "8                Casa                 0\n",
              "                 Departamento         0\n",
              "                 Quinta               0\n",
              "9                Casa                 0\n",
              "A Estrenar       Casa                 1\n",
              "                 Departamento         1\n",
              "                 Galpón               0\n",
              "                 Oficina              0\n",
              "                 Quinta               0\n",
              "En Construcción  Casa                 0\n",
              "Name: Total construido, dtype: int64"
            ]
          },
          "metadata": {},
          "execution_count": 190
        }
      ]
    },
    {
      "cell_type": "markdown",
      "source": [
        "De los 5 faltantes, 4 son propiedades a estrenar o nuevas, que muy posiblemente no tengan construcción.  Se imputa todo con 0 sin problemas."
      ],
      "metadata": {
        "id": "qcyfuC7POm9f"
      }
    },
    {
      "cell_type": "code",
      "source": [
        "df_housing['Total construido']=df_housing['Total construido'].str.extract(pat='(\\d+) ')"
      ],
      "metadata": {
        "id": "0sSSAJsGJPPu"
      },
      "execution_count": 191,
      "outputs": []
    },
    {
      "cell_type": "code",
      "source": [
        "df_housing['Total construido'].replace(np.nan,0,inplace=True)"
      ],
      "metadata": {
        "id": "3L5Jh8BQO7Jb"
      },
      "execution_count": 192,
      "outputs": []
    },
    {
      "cell_type": "code",
      "source": [
        "df_housing['Total construido'].isna().sum()"
      ],
      "metadata": {
        "colab": {
          "base_uri": "https://localhost:8080/"
        },
        "id": "TyFTHlupPExJ",
        "outputId": "920bf833-3d4b-4ce6-80e8-a635fc02a69b"
      },
      "execution_count": 193,
      "outputs": [
        {
          "output_type": "execute_result",
          "data": {
            "text/plain": [
              "0"
            ]
          },
          "metadata": {},
          "execution_count": 193
        }
      ]
    },
    {
      "cell_type": "code",
      "source": [
        "df_housing['Total construido']=df_housing['Total construido'].astype(float)"
      ],
      "metadata": {
        "id": "-1EXCtuMPMct"
      },
      "execution_count": 194,
      "outputs": []
    },
    {
      "cell_type": "markdown",
      "source": [
        "- **Dormitorios**"
      ],
      "metadata": {
        "id": "TFsHSiKfI3wo"
      }
    },
    {
      "cell_type": "code",
      "source": [
        "df_housing.groupby('Tipo de Propiedad')['Dormitorios'].value_counts(dropna=False)"
      ],
      "metadata": {
        "colab": {
          "base_uri": "https://localhost:8080/"
        },
        "id": "iz2sFAxkJXGS",
        "outputId": "09f86519-5a00-4306-a6d9-d8bd00475aac"
      },
      "execution_count": 195,
      "outputs": [
        {
          "output_type": "execute_result",
          "data": {
            "text/plain": [
              "Tipo de Propiedad  Dormitorios\n",
              "Casa               3.0            43\n",
              "                   4.0            22\n",
              "                   2.0             2\n",
              "                   5.0             2\n",
              "                   6.0             2\n",
              "                   8.0             1\n",
              "Departamento       3.0            23\n",
              "                   2.0            16\n",
              "                   1.0             3\n",
              "                   4.0             2\n",
              "Galpón             NaN             1\n",
              "Hotel              NaN             1\n",
              "Oficina            NaN            10\n",
              "Quinta             3.0             2\n",
              "                   4.0             1\n",
              "                   5.0             1\n",
              "                   6.0             1\n",
              "Terreno            NaN            73\n",
              "Name: Dormitorios, dtype: int64"
            ]
          },
          "metadata": {},
          "execution_count": 195
        }
      ]
    },
    {
      "cell_type": "markdown",
      "source": [
        "Puedo imputar 0 ya que las propiedades con valores NaN no tienen dormitorios."
      ],
      "metadata": {
        "id": "NsimQc08Jizl"
      }
    },
    {
      "cell_type": "code",
      "source": [
        "df_housing['Dormitorios'].fillna(0, inplace=True)"
      ],
      "metadata": {
        "id": "K4UVaolFJhih"
      },
      "execution_count": 196,
      "outputs": []
    },
    {
      "cell_type": "markdown",
      "source": [
        "- **Antiguedad**"
      ],
      "metadata": {
        "id": "AVLPHWk8JulZ"
      }
    },
    {
      "cell_type": "code",
      "source": [
        "df_housing.groupby('Tipo de Propiedad')['Antiguedad'].value_counts(dropna=False)"
      ],
      "metadata": {
        "colab": {
          "base_uri": "https://localhost:8080/"
        },
        "id": "b_1edDm1KThT",
        "outputId": "63be1b2f-2c0b-42cf-9b81-243caf0d5466"
      },
      "execution_count": 197,
      "outputs": [
        {
          "output_type": "execute_result",
          "data": {
            "text/plain": [
              "Tipo de Propiedad  Antiguedad     \n",
              "Casa               A Estrenar         19\n",
              "                   8                   7\n",
              "                   2                   6\n",
              "                   5                   6\n",
              "                   En Construcción     6\n",
              "                   9                   4\n",
              "                   4                   3\n",
              "                   6                   3\n",
              "                   1                   2\n",
              "                   11                  2\n",
              "                   12                  2\n",
              "                   25                  2\n",
              "                   10                  1\n",
              "                   13                  1\n",
              "                   15                  1\n",
              "                   17                  1\n",
              "                   18                  1\n",
              "                   20                  1\n",
              "                   24                  1\n",
              "                   3                   1\n",
              "                   38                  1\n",
              "                   7                   1\n",
              "Departamento       5                   8\n",
              "                   A Estrenar          8\n",
              "                   3                   5\n",
              "                   10                  4\n",
              "                   2                   4\n",
              "                   15                  3\n",
              "                   8                   3\n",
              "                   4                   2\n",
              "                   1                   1\n",
              "                   12                  1\n",
              "                   22                  1\n",
              "                   27                  1\n",
              "                   38                  1\n",
              "                   6                   1\n",
              "                   7                   1\n",
              "Galpón             A Estrenar          1\n",
              "Hotel              NaN                 1\n",
              "Oficina            1                   3\n",
              "                   5                   3\n",
              "                   A Estrenar          2\n",
              "                   4                   1\n",
              "                   7                   1\n",
              "Quinta             10                  1\n",
              "                   14                  1\n",
              "                   20                  1\n",
              "                   8                   1\n",
              "                   A Estrenar          1\n",
              "Terreno            NaN                73\n",
              "Name: Antiguedad, dtype: int64"
            ]
          },
          "metadata": {},
          "execution_count": 197
        }
      ]
    },
    {
      "cell_type": "markdown",
      "source": [
        "Es posible imputar 0 en todas los valores no numéricos porque indican mayormente que en verdad no existe la edificación."
      ],
      "metadata": {
        "id": "RIIR30rbKilp"
      }
    },
    {
      "cell_type": "code",
      "source": [
        "#Uso funcion to_numeric para reemplazar palabras con NaN\n",
        "df_housing['Antiguedad']= pd.to_numeric(df_housing['Antiguedad'], errors='coerce')\n",
        "#https://stackoverflow.com/questions/33440234/pandas-how-to-replace-string-with-zero-values-in-a-dataframe-series\n",
        "\n",
        "#Luego reemplazo NaN con 0\n",
        "df_housing['Antiguedad'].fillna(0, inplace=True)\n",
        "df_housing.groupby('Tipo de Propiedad')['Antiguedad'].value_counts(dropna=False)"
      ],
      "metadata": {
        "colab": {
          "base_uri": "https://localhost:8080/"
        },
        "id": "HqCyi74tKiMp",
        "outputId": "a0dcead7-1e0a-48e3-db1f-5973fe5357d4"
      },
      "execution_count": 198,
      "outputs": [
        {
          "output_type": "execute_result",
          "data": {
            "text/plain": [
              "Tipo de Propiedad  Antiguedad\n",
              "Casa               0.0           25\n",
              "                   8.0            7\n",
              "                   2.0            6\n",
              "                   5.0            6\n",
              "                   9.0            4\n",
              "                   4.0            3\n",
              "                   6.0            3\n",
              "                   1.0            2\n",
              "                   11.0           2\n",
              "                   12.0           2\n",
              "                   25.0           2\n",
              "                   3.0            1\n",
              "                   7.0            1\n",
              "                   10.0           1\n",
              "                   13.0           1\n",
              "                   15.0           1\n",
              "                   17.0           1\n",
              "                   18.0           1\n",
              "                   20.0           1\n",
              "                   24.0           1\n",
              "                   38.0           1\n",
              "Departamento       0.0            8\n",
              "                   5.0            8\n",
              "                   3.0            5\n",
              "                   2.0            4\n",
              "                   10.0           4\n",
              "                   8.0            3\n",
              "                   15.0           3\n",
              "                   4.0            2\n",
              "                   1.0            1\n",
              "                   6.0            1\n",
              "                   7.0            1\n",
              "                   12.0           1\n",
              "                   22.0           1\n",
              "                   27.0           1\n",
              "                   38.0           1\n",
              "Galpón             0.0            1\n",
              "Hotel              0.0            1\n",
              "Oficina            1.0            3\n",
              "                   5.0            3\n",
              "                   0.0            2\n",
              "                   4.0            1\n",
              "                   7.0            1\n",
              "Quinta             0.0            1\n",
              "                   8.0            1\n",
              "                   10.0           1\n",
              "                   14.0           1\n",
              "                   20.0           1\n",
              "Terreno            0.0           73\n",
              "Name: Antiguedad, dtype: int64"
            ]
          },
          "metadata": {},
          "execution_count": 198
        }
      ]
    },
    {
      "cell_type": "markdown",
      "source": [
        "- **Superficie**"
      ],
      "metadata": {
        "id": "8Ou5jvI_J8xX"
      }
    },
    {
      "cell_type": "markdown",
      "source": [
        "Es necesario eliminar las unidades de m2 de la columna para que esta sea numérica."
      ],
      "metadata": {
        "id": "ucCD_RH9PIDN"
      }
    },
    {
      "cell_type": "code",
      "source": [
        "#Extraigo numeros con regex\n",
        "#REF: https://saturncloud.io/blog/extracting-numbers-from-a-string-in-a-pandas-dataframe-a-comprehensive-guide/#:~:text=Pandas%20provides%20a%20function%20str,for%20pattern%20matching%20in%20strings.&text=In%20the%20code%20above%2C%20(%5C,matches%20one%20or%20more%20digits.\n",
        "df_housing['Superficie']=df_housing['Superficie'].str.replace('m²','')\n",
        "df_housing['Superficie']= pd.to_numeric(df_housing['Superficie'], errors='coerce')"
      ],
      "metadata": {
        "id": "eCqdKR9eMLa4"
      },
      "execution_count": 199,
      "outputs": []
    },
    {
      "cell_type": "markdown",
      "source": [
        "Para imputar verifico los valores faltantes por Tipo de Propiedad"
      ],
      "metadata": {
        "id": "Se5DqVnXXILM"
      }
    },
    {
      "cell_type": "code",
      "source": [
        "#Genero filtro con verdadero en los valores faltantes, y un df auxiliar con estas filas\n",
        "filtro_s=df_housing['Superficie'].isna()\n",
        "df_aux=df_housing[filtro_s]"
      ],
      "metadata": {
        "id": "uCYRE1qFQKAp"
      },
      "execution_count": 200,
      "outputs": []
    },
    {
      "cell_type": "code",
      "source": [
        "#Visualizo los faltantes por tipo de propiedad\n",
        "df_aux.groupby('Tipo de Propiedad')['Superficie'].value_counts(dropna=False)"
      ],
      "metadata": {
        "colab": {
          "base_uri": "https://localhost:8080/"
        },
        "id": "lLmEAdqoPYNk",
        "outputId": "b565af35-204a-416e-926f-3e0aaec84848"
      },
      "execution_count": 201,
      "outputs": [
        {
          "output_type": "execute_result",
          "data": {
            "text/plain": [
              "Tipo de Propiedad  Superficie\n",
              "Casa               NaN            8\n",
              "Departamento       NaN           33\n",
              "Oficina            NaN           10\n",
              "Terreno            NaN           18\n",
              "Name: Superficie, dtype: int64"
            ]
          },
          "metadata": {},
          "execution_count": 201
        }
      ]
    },
    {
      "cell_type": "markdown",
      "source": [
        "Es buena idea imputar usando los promedios de cada tipo de propiedad, se entiende que las casa por lo general tienen mayor superficie que los departamentos, lo mismo con las oficinas y los terrenos."
      ],
      "metadata": {
        "id": "3_CttXO5PCSN"
      }
    },
    {
      "cell_type": "code",
      "source": [
        "df_aux2=df_housing[['Superficie','Tipo de Propiedad']].dropna()\n",
        "df_aux2['Superficie']=df_aux2['Superficie'].astype(float)\n",
        "#Promedios de Superficie por Tipo de Propiedad\n",
        "promedios=df_aux2.groupby('Tipo de Propiedad')['Superficie'].mean().round(2)\n",
        "promedios"
      ],
      "metadata": {
        "colab": {
          "base_uri": "https://localhost:8080/"
        },
        "id": "w8yj-cokUODe",
        "outputId": "32fbe2f0-b41e-49ec-cd19-4bffb529f02a"
      },
      "execution_count": 202,
      "outputs": [
        {
          "output_type": "execute_result",
          "data": {
            "text/plain": [
              "Tipo de Propiedad\n",
              "Casa             688.84\n",
              "Departamento      55.82\n",
              "Galpón          1379.00\n",
              "Hotel           5650.00\n",
              "Quinta          4431.00\n",
              "Terreno         5013.27\n",
              "Name: Superficie, dtype: float64"
            ]
          },
          "metadata": {},
          "execution_count": 202
        }
      ]
    },
    {
      "cell_type": "code",
      "source": [
        "#Para imputar genero filtro\n",
        "filtro_ofi=df_housing['Tipo de Propiedad']=='Oficina'"
      ],
      "metadata": {
        "id": "fA0AtSx1R3Ww"
      },
      "execution_count": 203,
      "outputs": []
    },
    {
      "cell_type": "code",
      "source": [
        "#Imputación en casas, departamentos, oficinas y terrenos con sus promedios respectivos\n",
        "\n",
        "df_housing['Superficie'][filtro_casa]=df_housing['Superficie'][df_housing['Tipo de Propiedad']=='Casa'].replace(np.nan, promedios.loc['Casa'])\n",
        "df_housing['Superficie'][filtro_depar]=df_housing['Superficie'][filtro_depar].replace(np.nan,promedios.loc['Departamento'])\n",
        "df_housing['Superficie'][filtro_ofi]=df_housing['Superficie'][filtro_ofi].replace(np.nan, promedios.loc['Departamento'])\n",
        "df_housing['Superficie'][filtro_terreno]=df_housing['Superficie'][filtro_terreno].replace(np.nan, promedios.loc['Terreno'])"
      ],
      "metadata": {
        "id": "Z6WfkNS0SaMf",
        "colab": {
          "base_uri": "https://localhost:8080/"
        },
        "outputId": "860f5eea-9ce7-4e81-c7f0-35fca39f5ff9"
      },
      "execution_count": 204,
      "outputs": [
        {
          "output_type": "stream",
          "name": "stderr",
          "text": [
            "<ipython-input-204-47e72b63bd9f>:3: SettingWithCopyWarning: \n",
            "A value is trying to be set on a copy of a slice from a DataFrame\n",
            "\n",
            "See the caveats in the documentation: https://pandas.pydata.org/pandas-docs/stable/user_guide/indexing.html#returning-a-view-versus-a-copy\n",
            "  df_housing['Superficie'][filtro_casa]=df_housing['Superficie'][df_housing['Tipo de Propiedad']=='Casa'].replace(np.nan, promedios.loc['Casa'])\n",
            "<ipython-input-204-47e72b63bd9f>:4: SettingWithCopyWarning: \n",
            "A value is trying to be set on a copy of a slice from a DataFrame\n",
            "\n",
            "See the caveats in the documentation: https://pandas.pydata.org/pandas-docs/stable/user_guide/indexing.html#returning-a-view-versus-a-copy\n",
            "  df_housing['Superficie'][filtro_depar]=df_housing['Superficie'][filtro_depar].replace(np.nan,promedios.loc['Departamento'])\n",
            "<ipython-input-204-47e72b63bd9f>:5: SettingWithCopyWarning: \n",
            "A value is trying to be set on a copy of a slice from a DataFrame\n",
            "\n",
            "See the caveats in the documentation: https://pandas.pydata.org/pandas-docs/stable/user_guide/indexing.html#returning-a-view-versus-a-copy\n",
            "  df_housing['Superficie'][filtro_ofi]=df_housing['Superficie'][filtro_ofi].replace(np.nan, promedios.loc['Departamento'])\n",
            "<ipython-input-204-47e72b63bd9f>:6: SettingWithCopyWarning: \n",
            "A value is trying to be set on a copy of a slice from a DataFrame\n",
            "\n",
            "See the caveats in the documentation: https://pandas.pydata.org/pandas-docs/stable/user_guide/indexing.html#returning-a-view-versus-a-copy\n",
            "  df_housing['Superficie'][filtro_terreno]=df_housing['Superficie'][filtro_terreno].replace(np.nan, promedios.loc['Terreno'])\n"
          ]
        }
      ]
    },
    {
      "cell_type": "code",
      "source": [
        "df_housing.info()"
      ],
      "metadata": {
        "colab": {
          "base_uri": "https://localhost:8080/"
        },
        "id": "gGn51470O-fh",
        "outputId": "4e1a163e-1956-48a5-c337-30b0a731a6ae"
      },
      "execution_count": 205,
      "outputs": [
        {
          "output_type": "stream",
          "name": "stdout",
          "text": [
            "<class 'pandas.core.frame.DataFrame'>\n",
            "RangeIndex: 206 entries, 0 to 205\n",
            "Data columns (total 10 columns):\n",
            " #   Column             Non-Null Count  Dtype  \n",
            "---  ------             --------------  -----  \n",
            " 0   Tipo de Propiedad  206 non-null    object \n",
            " 1   Sector             206 non-null    object \n",
            " 2   Total construido   206 non-null    float64\n",
            " 3   Precio             206 non-null    object \n",
            " 4   Dormitorios        206 non-null    float64\n",
            " 5   Baños              206 non-null    float64\n",
            " 6   Antiguedad         206 non-null    float64\n",
            " 7   Superficie         206 non-null    float64\n",
            " 8   Ambientes          206 non-null    float64\n",
            " 9   Seguridad24h       206 non-null    bool   \n",
            "dtypes: bool(1), float64(6), object(3)\n",
            "memory usage: 14.8+ KB\n"
          ]
        }
      ]
    },
    {
      "cell_type": "markdown",
      "source": [
        "##- Inconsistencia Dtype Precio"
      ],
      "metadata": {
        "id": "gNCXrTA1RQj1"
      }
    },
    {
      "cell_type": "code",
      "source": [
        "df_housing['Precio'].head()"
      ],
      "metadata": {
        "colab": {
          "base_uri": "https://localhost:8080/"
        },
        "id": "UbjyXeBeTI1v",
        "outputId": "6a4c2657-22c1-44a6-fa01-48ae74be7b9d"
      },
      "execution_count": 206,
      "outputs": [
        {
          "output_type": "execute_result",
          "data": {
            "text/plain": [
              "0    USD160.000\n",
              "1    USD800.000\n",
              "2    USD360.000\n",
              "3    USD275.000\n",
              "4    USD850.000\n",
              "Name: Precio, dtype: object"
            ]
          },
          "metadata": {},
          "execution_count": 206
        }
      ]
    },
    {
      "cell_type": "code",
      "source": [
        "df_housing['Precio']=df_housing['Precio'].str.replace('USD','')"
      ],
      "metadata": {
        "id": "HpWel4fCQqtV"
      },
      "execution_count": 207,
      "outputs": []
    },
    {
      "cell_type": "code",
      "source": [
        "df_housing['Precio']=df_housing['Precio'].str.replace('.','')"
      ],
      "metadata": {
        "colab": {
          "base_uri": "https://localhost:8080/"
        },
        "id": "jzClIzaoVxq6",
        "outputId": "ba193234-5bf6-4389-9591-e699db5b0434"
      },
      "execution_count": 208,
      "outputs": [
        {
          "output_type": "stream",
          "name": "stderr",
          "text": [
            "<ipython-input-208-69aa6968b716>:1: FutureWarning: The default value of regex will change from True to False in a future version. In addition, single character regular expressions will *not* be treated as literal strings when regex=True.\n",
            "  df_housing['Precio']=df_housing['Precio'].str.replace('.','')\n"
          ]
        }
      ]
    },
    {
      "cell_type": "code",
      "source": [
        "df_housing['Precio']=df_housing['Precio'].astype(float)"
      ],
      "metadata": {
        "id": "C3uLWWQxRumM"
      },
      "execution_count": 209,
      "outputs": []
    },
    {
      "cell_type": "code",
      "source": [
        "df_housing.head()"
      ],
      "metadata": {
        "colab": {
          "base_uri": "https://localhost:8080/",
          "height": 206
        },
        "id": "iVne-HV5Rygo",
        "outputId": "cdd06fd0-8c18-4ba2-8c56-ce6c3608d656"
      },
      "execution_count": 210,
      "outputs": [
        {
          "output_type": "execute_result",
          "data": {
            "text/plain": [
              "  Tipo de Propiedad     Sector  Total construido    Precio  Dormitorios  \\\n",
              "0      Departamento       Same             160.0  160000.0          3.0   \n",
              "1              Casa  El Bosque             960.0  800000.0          5.0   \n",
              "2              Casa    Cumbayá             275.0  360000.0          3.0   \n",
              "3           Terreno      Checa               0.0  275000.0          0.0   \n",
              "4              Casa    Cumbayá            1740.0  850000.0          4.0   \n",
              "\n",
              "   Baños  Antiguedad  Superficie  Ambientes  Seguridad24h  \n",
              "0    2.0        15.0       55.82        4.0         False  \n",
              "1    5.0        38.0     1443.00        6.0         False  \n",
              "2    3.0         0.0       60.00        4.0         False  \n",
              "3    0.0         0.0     5000.00        1.0         False  \n",
              "4    3.0         8.0      688.84        1.0         False  "
            ],
            "text/html": [
              "\n",
              "  <div id=\"df-dd478168-7550-41ee-a544-326def4f94f9\" class=\"colab-df-container\">\n",
              "    <div>\n",
              "<style scoped>\n",
              "    .dataframe tbody tr th:only-of-type {\n",
              "        vertical-align: middle;\n",
              "    }\n",
              "\n",
              "    .dataframe tbody tr th {\n",
              "        vertical-align: top;\n",
              "    }\n",
              "\n",
              "    .dataframe thead th {\n",
              "        text-align: right;\n",
              "    }\n",
              "</style>\n",
              "<table border=\"1\" class=\"dataframe\">\n",
              "  <thead>\n",
              "    <tr style=\"text-align: right;\">\n",
              "      <th></th>\n",
              "      <th>Tipo de Propiedad</th>\n",
              "      <th>Sector</th>\n",
              "      <th>Total construido</th>\n",
              "      <th>Precio</th>\n",
              "      <th>Dormitorios</th>\n",
              "      <th>Baños</th>\n",
              "      <th>Antiguedad</th>\n",
              "      <th>Superficie</th>\n",
              "      <th>Ambientes</th>\n",
              "      <th>Seguridad24h</th>\n",
              "    </tr>\n",
              "  </thead>\n",
              "  <tbody>\n",
              "    <tr>\n",
              "      <th>0</th>\n",
              "      <td>Departamento</td>\n",
              "      <td>Same</td>\n",
              "      <td>160.0</td>\n",
              "      <td>160000.0</td>\n",
              "      <td>3.0</td>\n",
              "      <td>2.0</td>\n",
              "      <td>15.0</td>\n",
              "      <td>55.82</td>\n",
              "      <td>4.0</td>\n",
              "      <td>False</td>\n",
              "    </tr>\n",
              "    <tr>\n",
              "      <th>1</th>\n",
              "      <td>Casa</td>\n",
              "      <td>El Bosque</td>\n",
              "      <td>960.0</td>\n",
              "      <td>800000.0</td>\n",
              "      <td>5.0</td>\n",
              "      <td>5.0</td>\n",
              "      <td>38.0</td>\n",
              "      <td>1443.00</td>\n",
              "      <td>6.0</td>\n",
              "      <td>False</td>\n",
              "    </tr>\n",
              "    <tr>\n",
              "      <th>2</th>\n",
              "      <td>Casa</td>\n",
              "      <td>Cumbayá</td>\n",
              "      <td>275.0</td>\n",
              "      <td>360000.0</td>\n",
              "      <td>3.0</td>\n",
              "      <td>3.0</td>\n",
              "      <td>0.0</td>\n",
              "      <td>60.00</td>\n",
              "      <td>4.0</td>\n",
              "      <td>False</td>\n",
              "    </tr>\n",
              "    <tr>\n",
              "      <th>3</th>\n",
              "      <td>Terreno</td>\n",
              "      <td>Checa</td>\n",
              "      <td>0.0</td>\n",
              "      <td>275000.0</td>\n",
              "      <td>0.0</td>\n",
              "      <td>0.0</td>\n",
              "      <td>0.0</td>\n",
              "      <td>5000.00</td>\n",
              "      <td>1.0</td>\n",
              "      <td>False</td>\n",
              "    </tr>\n",
              "    <tr>\n",
              "      <th>4</th>\n",
              "      <td>Casa</td>\n",
              "      <td>Cumbayá</td>\n",
              "      <td>1740.0</td>\n",
              "      <td>850000.0</td>\n",
              "      <td>4.0</td>\n",
              "      <td>3.0</td>\n",
              "      <td>8.0</td>\n",
              "      <td>688.84</td>\n",
              "      <td>1.0</td>\n",
              "      <td>False</td>\n",
              "    </tr>\n",
              "  </tbody>\n",
              "</table>\n",
              "</div>\n",
              "    <div class=\"colab-df-buttons\">\n",
              "\n",
              "  <div class=\"colab-df-container\">\n",
              "    <button class=\"colab-df-convert\" onclick=\"convertToInteractive('df-dd478168-7550-41ee-a544-326def4f94f9')\"\n",
              "            title=\"Convert this dataframe to an interactive table.\"\n",
              "            style=\"display:none;\">\n",
              "\n",
              "  <svg xmlns=\"http://www.w3.org/2000/svg\" height=\"24px\" viewBox=\"0 -960 960 960\">\n",
              "    <path d=\"M120-120v-720h720v720H120Zm60-500h600v-160H180v160Zm220 220h160v-160H400v160Zm0 220h160v-160H400v160ZM180-400h160v-160H180v160Zm440 0h160v-160H620v160ZM180-180h160v-160H180v160Zm440 0h160v-160H620v160Z\"/>\n",
              "  </svg>\n",
              "    </button>\n",
              "\n",
              "  <style>\n",
              "    .colab-df-container {\n",
              "      display:flex;\n",
              "      gap: 12px;\n",
              "    }\n",
              "\n",
              "    .colab-df-convert {\n",
              "      background-color: #E8F0FE;\n",
              "      border: none;\n",
              "      border-radius: 50%;\n",
              "      cursor: pointer;\n",
              "      display: none;\n",
              "      fill: #1967D2;\n",
              "      height: 32px;\n",
              "      padding: 0 0 0 0;\n",
              "      width: 32px;\n",
              "    }\n",
              "\n",
              "    .colab-df-convert:hover {\n",
              "      background-color: #E2EBFA;\n",
              "      box-shadow: 0px 1px 2px rgba(60, 64, 67, 0.3), 0px 1px 3px 1px rgba(60, 64, 67, 0.15);\n",
              "      fill: #174EA6;\n",
              "    }\n",
              "\n",
              "    .colab-df-buttons div {\n",
              "      margin-bottom: 4px;\n",
              "    }\n",
              "\n",
              "    [theme=dark] .colab-df-convert {\n",
              "      background-color: #3B4455;\n",
              "      fill: #D2E3FC;\n",
              "    }\n",
              "\n",
              "    [theme=dark] .colab-df-convert:hover {\n",
              "      background-color: #434B5C;\n",
              "      box-shadow: 0px 1px 3px 1px rgba(0, 0, 0, 0.15);\n",
              "      filter: drop-shadow(0px 1px 2px rgba(0, 0, 0, 0.3));\n",
              "      fill: #FFFFFF;\n",
              "    }\n",
              "  </style>\n",
              "\n",
              "    <script>\n",
              "      const buttonEl =\n",
              "        document.querySelector('#df-dd478168-7550-41ee-a544-326def4f94f9 button.colab-df-convert');\n",
              "      buttonEl.style.display =\n",
              "        google.colab.kernel.accessAllowed ? 'block' : 'none';\n",
              "\n",
              "      async function convertToInteractive(key) {\n",
              "        const element = document.querySelector('#df-dd478168-7550-41ee-a544-326def4f94f9');\n",
              "        const dataTable =\n",
              "          await google.colab.kernel.invokeFunction('convertToInteractive',\n",
              "                                                    [key], {});\n",
              "        if (!dataTable) return;\n",
              "\n",
              "        const docLinkHtml = 'Like what you see? Visit the ' +\n",
              "          '<a target=\"_blank\" href=https://colab.research.google.com/notebooks/data_table.ipynb>data table notebook</a>'\n",
              "          + ' to learn more about interactive tables.';\n",
              "        element.innerHTML = '';\n",
              "        dataTable['output_type'] = 'display_data';\n",
              "        await google.colab.output.renderOutput(dataTable, element);\n",
              "        const docLink = document.createElement('div');\n",
              "        docLink.innerHTML = docLinkHtml;\n",
              "        element.appendChild(docLink);\n",
              "      }\n",
              "    </script>\n",
              "  </div>\n",
              "\n",
              "\n",
              "<div id=\"df-9423bf56-3ea3-4dfb-8275-883b3a504f92\">\n",
              "  <button class=\"colab-df-quickchart\" onclick=\"quickchart('df-9423bf56-3ea3-4dfb-8275-883b3a504f92')\"\n",
              "            title=\"Suggest charts.\"\n",
              "            style=\"display:none;\">\n",
              "\n",
              "<svg xmlns=\"http://www.w3.org/2000/svg\" height=\"24px\"viewBox=\"0 0 24 24\"\n",
              "     width=\"24px\">\n",
              "    <g>\n",
              "        <path d=\"M19 3H5c-1.1 0-2 .9-2 2v14c0 1.1.9 2 2 2h14c1.1 0 2-.9 2-2V5c0-1.1-.9-2-2-2zM9 17H7v-7h2v7zm4 0h-2V7h2v10zm4 0h-2v-4h2v4z\"/>\n",
              "    </g>\n",
              "</svg>\n",
              "  </button>\n",
              "\n",
              "<style>\n",
              "  .colab-df-quickchart {\n",
              "    background-color: #E8F0FE;\n",
              "    border: none;\n",
              "    border-radius: 50%;\n",
              "    cursor: pointer;\n",
              "    display: none;\n",
              "    fill: #1967D2;\n",
              "    height: 32px;\n",
              "    padding: 0 0 0 0;\n",
              "    width: 32px;\n",
              "  }\n",
              "\n",
              "  .colab-df-quickchart:hover {\n",
              "    background-color: #E2EBFA;\n",
              "    box-shadow: 0px 1px 2px rgba(60, 64, 67, 0.3), 0px 1px 3px 1px rgba(60, 64, 67, 0.15);\n",
              "    fill: #174EA6;\n",
              "  }\n",
              "\n",
              "  [theme=dark] .colab-df-quickchart {\n",
              "    background-color: #3B4455;\n",
              "    fill: #D2E3FC;\n",
              "  }\n",
              "\n",
              "  [theme=dark] .colab-df-quickchart:hover {\n",
              "    background-color: #434B5C;\n",
              "    box-shadow: 0px 1px 3px 1px rgba(0, 0, 0, 0.15);\n",
              "    filter: drop-shadow(0px 1px 2px rgba(0, 0, 0, 0.3));\n",
              "    fill: #FFFFFF;\n",
              "  }\n",
              "</style>\n",
              "\n",
              "  <script>\n",
              "    async function quickchart(key) {\n",
              "      const charts = await google.colab.kernel.invokeFunction(\n",
              "          'suggestCharts', [key], {});\n",
              "    }\n",
              "    (() => {\n",
              "      let quickchartButtonEl =\n",
              "        document.querySelector('#df-9423bf56-3ea3-4dfb-8275-883b3a504f92 button');\n",
              "      quickchartButtonEl.style.display =\n",
              "        google.colab.kernel.accessAllowed ? 'block' : 'none';\n",
              "    })();\n",
              "  </script>\n",
              "</div>\n",
              "    </div>\n",
              "  </div>\n"
            ]
          },
          "metadata": {},
          "execution_count": 210
        }
      ]
    },
    {
      "cell_type": "code",
      "source": [
        "df_housing.info()"
      ],
      "metadata": {
        "colab": {
          "base_uri": "https://localhost:8080/"
        },
        "id": "IzSyaiIXRnQa",
        "outputId": "6ed409e9-4542-4016-ba11-3e3a9ca922d6"
      },
      "execution_count": 211,
      "outputs": [
        {
          "output_type": "stream",
          "name": "stdout",
          "text": [
            "<class 'pandas.core.frame.DataFrame'>\n",
            "RangeIndex: 206 entries, 0 to 205\n",
            "Data columns (total 10 columns):\n",
            " #   Column             Non-Null Count  Dtype  \n",
            "---  ------             --------------  -----  \n",
            " 0   Tipo de Propiedad  206 non-null    object \n",
            " 1   Sector             206 non-null    object \n",
            " 2   Total construido   206 non-null    float64\n",
            " 3   Precio             206 non-null    float64\n",
            " 4   Dormitorios        206 non-null    float64\n",
            " 5   Baños              206 non-null    float64\n",
            " 6   Antiguedad         206 non-null    float64\n",
            " 7   Superficie         206 non-null    float64\n",
            " 8   Ambientes          206 non-null    float64\n",
            " 9   Seguridad24h       206 non-null    bool   \n",
            "dtypes: bool(1), float64(7), object(2)\n",
            "memory usage: 14.8+ KB\n"
          ]
        }
      ]
    },
    {
      "cell_type": "markdown",
      "source": [
        "## - Otras Inconsistencias"
      ],
      "metadata": {
        "id": "jmt0cGAKt4yy"
      }
    },
    {
      "cell_type": "code",
      "source": [
        "df_housing['Sector'].value_counts()"
      ],
      "metadata": {
        "colab": {
          "base_uri": "https://localhost:8080/"
        },
        "id": "_-aDKC6EWDux",
        "outputId": "ea752665-f59a-4c3b-c0ca-3052de74bf96"
      },
      "execution_count": 212,
      "outputs": [
        {
          "output_type": "execute_result",
          "data": {
            "text/plain": [
              "Cumbayá                   83\n",
              "Tumbaco                   39\n",
              "Puembo                    22\n",
              "Nayón - Tanda              9\n",
              "La Carolina                6\n",
              "Checa                      4\n",
              "Pifo                       4\n",
              "El Bosque                  3\n",
              "Miravalle                  3\n",
              "González Suárez            3\n",
              "Tababela                   2\n",
              "Bellavista                 2\n",
              "Norte de Manta             2\n",
              "Quito Tenis                2\n",
              "Centro Norte               2\n",
              "Centro de Manta            2\n",
              "Norte de Pedernales        2\n",
              "Iñaquito Alto              2\n",
              "Carcelén                   1\n",
              "Monteserrín                1\n",
              "Centro de Punta Blanca     1\n",
              "Carapungo                  1\n",
              "Calderón                   1\n",
              "Tonsupa                    1\n",
              "Los Chillos                1\n",
              "Norte de Punta Blanca      1\n",
              "Manta                      1\n",
              "Mitad del Mundo            1\n",
              "Atacames                   1\n",
              "Centro de Same             1\n",
              "Centro de Ambato           1\n",
              "Same                       1\n",
              "Name: Sector, dtype: int64"
            ]
          },
          "metadata": {},
          "execution_count": 212
        }
      ]
    },
    {
      "cell_type": "markdown",
      "source": [
        "No hay inconsistencias en el Sector.  Aclarar que Centro Norte se refiere a la ciudad de Quito."
      ],
      "metadata": {
        "id": "QLxSEseCt-KO"
      }
    },
    {
      "cell_type": "code",
      "source": [
        "#Reemplazo para aclaración\n",
        "dicc_clar={'Centro Norte':'Centro Norte Quito'}\n",
        "df_housing['Sector'].replace(dicc_clar, inplace=True)"
      ],
      "metadata": {
        "id": "omHJwQ6-yt6O"
      },
      "execution_count": 213,
      "outputs": []
    },
    {
      "cell_type": "markdown",
      "source": [
        "## VISUALIZACION OBJECTIVO"
      ],
      "metadata": {
        "id": "BMQjJn2JuAiK"
      }
    },
    {
      "cell_type": "code",
      "source": [
        "\n",
        "#HISTOGRAMA DE PRECIOS\n",
        "\n",
        "plt.title('HISTOGRAMA DE PRECIOS',fontsize=15)\n",
        "plt.xlabel('Precios USD$')\n",
        "plt.ylabel('Frecuencia / conteo',fontsize=12)\n",
        "\n",
        "\n",
        "hist_p=plt.hist(df_housing['Precio'], bins=20, ec='blue')\n",
        "\n",
        "plt.style.use('dark_background') #estilo dark de matplotlib\n",
        "plt.show"
      ],
      "metadata": {
        "colab": {
          "base_uri": "https://localhost:8080/",
          "height": 491
        },
        "id": "I-BfgGY80hQl",
        "outputId": "c3709c6a-7822-4335-d6ae-3b6084c6728e"
      },
      "execution_count": 214,
      "outputs": [
        {
          "output_type": "execute_result",
          "data": {
            "text/plain": [
              "<function matplotlib.pyplot.show(close=None, block=None)>"
            ]
          },
          "metadata": {},
          "execution_count": 214
        },
        {
          "output_type": "display_data",
          "data": {
            "text/plain": [
              "<Figure size 640x480 with 1 Axes>"
            ],
            "image/png": "[encoded data removed]"
          },
          "metadata": {}
        }
      ]
    },
    {
      "cell_type": "code",
      "source": [
        "#BOXPLOTS\n",
        "bxplt=plt.boxplot(df_housing['Precio'], notch = True, showmeans=True,\\\n",
        "             patch_artist=True);"
      ],
      "metadata": {
        "colab": {
          "base_uri": "https://localhost:8080/",
          "height": 445
        },
        "id": "kHk6xG6L1ChN",
        "outputId": "1f4f85cc-756f-48bf-8384-5140614a70be"
      },
      "execution_count": 215,
      "outputs": [
        {
          "output_type": "display_data",
          "data": {
            "text/plain": [
              "<Figure size 640x480 with 1 Axes>"
            ],
            "image/png": "[encoded data removed]"
          },
          "metadata": {}
        }
      ]
    },
    {
      "cell_type": "markdown",
      "source": [
        "Parece que existen 4 valores atípicos en la distribución, si bien hay algunos valores fuera del 3er cuartil, utilizamos el criterio de valor z mayor a 3 para eliminar los valores atípicos."
      ],
      "metadata": {
        "id": "PmJVlGwrZyYM"
      }
    },
    {
      "cell_type": "code",
      "source": [
        "#Calcula el valor z para los valores de Precio\n",
        "df_h=df_housing[(np.abs(stats.zscore(df_housing['Precio'])) < 3)]"
      ],
      "metadata": {
        "id": "NL8-P9u4Zv03"
      },
      "execution_count": 216,
      "outputs": []
    },
    {
      "cell_type": "code",
      "source": [
        "df_h.shape"
      ],
      "metadata": {
        "colab": {
          "base_uri": "https://localhost:8080/"
        },
        "id": "cHZaDp3Lbbw5",
        "outputId": "a9f1e2fa-ba0a-4c14-d31d-60812f866244"
      },
      "execution_count": 218,
      "outputs": [
        {
          "output_type": "execute_result",
          "data": {
            "text/plain": [
              "(202, 10)"
            ]
          },
          "metadata": {},
          "execution_count": 218
        }
      ]
    },
    {
      "cell_type": "markdown",
      "source": [
        "Se han eliminado los 4 outliers en base al valor z."
      ],
      "metadata": {
        "id": "FnzesTk2bovZ"
      }
    },
    {
      "cell_type": "code",
      "source": [
        "#BOXPLOTS\n",
        "bxplt=plt.boxplot(df_h['Precio'], notch = True, showmeans=True,\\\n",
        "             patch_artist=True);"
      ],
      "metadata": {
        "colab": {
          "base_uri": "https://localhost:8080/",
          "height": 445
        },
        "id": "Q981Ipg6a3_p",
        "outputId": "22b8136e-d151-4394-fd06-6b6c95e5bf74"
      },
      "execution_count": 219,
      "outputs": [
        {
          "output_type": "display_data",
          "data": {
            "text/plain": [
              "<Figure size 640x480 with 1 Axes>"
            ],
            "image/png": "[encoded data removed]"
          },
          "metadata": {}
        }
      ]
    },
    {
      "cell_type": "markdown",
      "source": [
        "## -CORRELACIÓN"
      ],
      "metadata": {
        "id": "HFe-i30YbyoY"
      }
    },
    {
      "cell_type": "code",
      "source": [
        "corr=df_h.corr()\n",
        "\n",
        "sns.set (rc = {'figure.figsize':(12,8)})\n",
        "sns.heatmap(corr, cmap='rocket', vmax=1, vmin=-1, square=True,\n",
        "        linewidths=0.1, annot=True, annot_kws={\"size\":10});\n",
        "plt.title('Correlación entre columnas numericas',fontweight='bold');\n",
        "\n",
        "#REF para arreglar tamaño:\n",
        "# https://stackoverflow.com/questions/24783761/change-the-font-size-in-a-seaborn-corrplot"
      ],
      "metadata": {
        "colab": {
          "base_uri": "https://localhost:8080/",
          "height": 845
        },
        "id": "bsDMM6QRbyEk",
        "outputId": "35d8b68f-9a57-473e-cb5e-0bd4b6d01a74"
      },
      "execution_count": 221,
      "outputs": [
        {
          "output_type": "stream",
          "name": "stderr",
          "text": [
            "<ipython-input-221-8041093b3dee>:1: FutureWarning: The default value of numeric_only in DataFrame.corr is deprecated. In a future version, it will default to False. Select only valid columns or specify the value of numeric_only to silence this warning.\n",
            "  corr=df_h.corr()\n"
          ]
        },
        {
          "output_type": "display_data",
          "data": {
            "text/plain": [
              "<Figure size 1200x800 with 2 Axes>"
            ],
            "image/png": "[encoded data removed]"
          },
          "metadata": {}
        }
      ]
    },
    {
      "cell_type": "markdown",
      "source": [
        "Del mapa de correlación se observa mayores valores en número de baños y dormitorios, algo con mucho sentido.\n",
        "\n",
        "El precio tiene los mayores valores en comparación al total construido y a la superficie, pero aún son valores bajos de correlación 0.3, y 0.49.   "
      ],
      "metadata": {
        "id": "Zu97zz1EcV_c"
      }
    }
  ]
}